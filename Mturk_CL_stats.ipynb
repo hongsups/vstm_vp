{
 "cells": [
  {
   "cell_type": "code",
   "execution_count": 2,
   "metadata": {
    "collapsed": true
   },
   "outputs": [],
   "source": [
    "\"\"\"\n",
    "    Objective 1: Lab data\n",
    "        - Plot the data\n",
    "        - Check average performance (binnned) increases w/ delta -> RM-ANOVA\n",
    "        - Both for orientation and color\n",
    "    Objective 2: mturk data\n",
    "        - Bootstrap samples to compute standard error\n",
    "        - relevant data: check average performance (binned) increases w/ delta -> RM-ANOVA\n",
    "        - Irrelevant data: check average performance (binned) is \n",
    "            significantly different from chance -> one-sided t-test\n",
    "    Objective 3: Lab vs. mturk data (relevant)\n",
    "        - Check mturk data is significanlty worse than lab data -> two-sided t-test\n",
    "\"\"\"\n",
    "import scipy as sp\n",
    "import numpy as np\n",
    "import matplotlib.pyplot as plt\n",
    "%matplotlib inline\n",
    "import matplotlib"
   ]
  },
  {
   "cell_type": "markdown",
   "metadata": {},
   "source": [
    "#1. Laboratory experiment\n",
    "- Change localization w/ one orientation change and one color change\n",
    "- N = 5"
   ]
  },
  {
   "cell_type": "markdown",
   "metadata": {},
   "source": [
    "##1.1 Load files"
   ]
  },
  {
   "cell_type": "code",
   "execution_count": 17,
   "metadata": {
    "collapsed": false,
    "scrolled": true
   },
   "outputs": [],
   "source": [
    "# to load multiple files, let's use unix-style wildcards\n",
    "import fnmatch # file name matching\n",
    "import glob # path name matching\n",
    "import os\n",
    "import io\n",
    "\n",
    "pathname = 'one_change_lab'\n",
    "\n",
    "a = os.listdir('one_change_lab')\n",
    "\n",
    "#sp.io.loadmat\n",
    "\n",
    "#HJK6_6_2_150_20130618T114201.mat\n",
    "#print os.path.dirname(pathname)\n",
    "\n",
    "#print os.path.exists(\"/home/\")\n",
    "#for file in os.listdir(pathname):\n",
    "#   if fnmatch.fnmatch(file, '*.mat'):\n",
    "#      print file\n",
    "\n",
    "\n",
    "#import sys\n",
    "#sys.path.insert(0, 'hongsup/Dropbox/Public/change localization/conjunction/output/') #exp6/\n",
    "#mat = sp.io.loadmat('hongsup/Dropbox/Public/change localization/conjunction/output/exp6/HJK6_6_2_150_20130618T114201.mat')"
   ]
  },
  {
   "cell_type": "code",
   "execution_count": null,
   "metadata": {
    "collapsed": true
   },
   "outputs": [],
   "source": [
    "print os.listdir"
   ]
  },
  {
   "cell_type": "code",
   "execution_count": null,
   "metadata": {
    "collapsed": true
   },
   "outputs": [],
   "source": []
  }
 ],
 "metadata": {
  "kernelspec": {
   "display_name": "Python 2",
   "language": "python",
   "name": "python2"
  },
  "language_info": {
   "codemirror_mode": {
    "name": "ipython",
    "version": 2
   },
   "file_extension": ".py",
   "mimetype": "text/x-python",
   "name": "python",
   "nbconvert_exporter": "python",
   "pygments_lexer": "ipython2",
   "version": "2.7.10"
  }
 },
 "nbformat": 4,
 "nbformat_minor": 0
}
