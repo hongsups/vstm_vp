{
 "cells": [
  {
   "cell_type": "code",
   "execution_count": 524,
   "metadata": {
    "collapsed": false
   },
   "outputs": [],
   "source": [
    "\"\"\"\n",
    "    Objective 1: Lab data\n",
    "        - Plot the data\n",
    "        - Check average performance (binnned) increases w/ delta -> RM-ANOVA\n",
    "        - Both for orientation and color\n",
    "    Objective 2: mturk data\n",
    "        - Bootstrap samples to compute standard error\n",
    "        - relevant data: check average performance (binned) increases w/ delta -> RM-ANOVA\n",
    "        - Irrelevant data: check average performance (binned) is \n",
    "            significantly different from chance -> one-sided t-test\n",
    "    Objective 3: Lab vs. mturk data (relevant)\n",
    "        - Check mturk data is significanlty worse than lab data -> two-sided t-test\n",
    "\"\"\"\n",
    "import fnmatch # file name matching\n",
    "import os\n",
    "from scipy.io import loadmat\n",
    "\n",
    "from pandas import DataFrame, Series\n",
    "import pandas as pd\n",
    "import scipy as sp\n",
    "import numpy as np\n",
    "\n",
    "import matplotlib.pyplot as plt\n",
    "%matplotlib inline\n",
    "import matplotlib\n",
    "\n",
    "# Change font setting\n",
    "font = {'family' : 'Arial',\n",
    "        'weight' : 'bold',\n",
    "        'size'   : 20}\n",
    "matplotlib.rc('font', **font)"
   ]
  },
  {
   "cell_type": "markdown",
   "metadata": {},
   "source": [
    "#1. Laboratory experiment\n",
    "## Change localization w/ one orientation change and one color change (N = 5)\n",
    "##1.1 Load files"
   ]
  },
  {
   "cell_type": "code",
   "execution_count": 453,
   "metadata": {
    "collapsed": false,
    "scrolled": true
   },
   "outputs": [],
   "source": [
    "\"\"\" Define path name and subject names \"\"\"\n",
    "pathname = 'one_change_lab/'\n",
    "file_names = os.listdir(pathname)\n",
    "subject_names = ['HJK','HS0','LLT','WK0','WZ0']"
   ]
  },
  {
   "cell_type": "code",
   "execution_count": 454,
   "metadata": {
    "collapsed": false,
    "scrolled": true
   },
   "outputs": [],
   "source": [
    "\"\"\" Create a DataFrame for all subject data \"\"\"\n",
    "index = 1\n",
    "# Loop over subjects (subject_names)\n",
    "df = DataFrame()\n",
    "for index in [1,2]:\n",
    "    temp2 = DataFrame()\n",
    "    for subject_name in subject_names:\n",
    "        # Create a tag to find files based on a subject name\n",
    "        subject_tag = subject_name + '6_6_' + str(index)\n",
    "        # Filter the files\n",
    "        subject_files = fnmatch.filter(file_names, subject_tag + '*.mat')\n",
    "        # Loop over filtered files\n",
    "        temp1 = DataFrame()\n",
    "        for subject_file in subject_files:\n",
    "            # Convert a MATLAB matrix to a DataFrame\n",
    "            temp0 = DataFrame(loadmat(pathname+subject_file)['datamatrix'])\n",
    "            # Concatenate DataFrames\n",
    "            temp1 = pd.concat([temp1,temp0],ignore_index=True)\n",
    "        # Create a column to assign subject names\n",
    "        temp1['Name'] = DataFrame([subject_name]*len(temp1))\n",
    "        # Concatenate\n",
    "        temp2 = pd.concat([temp2,temp1],ignore_index=True)\n",
    "        # Create a column to assign experiment index\n",
    "        if index == 1:\n",
    "            temp2['Feature'] = DataFrame(['Ori']*len(temp2))\n",
    "        elif index == 2:\n",
    "            temp2['Feature'] = DataFrame(['Col']*len(temp2))\n",
    "    # Concatenate all subject data to create a single DataFrame            \n",
    "    df = pd.concat([df,temp2],ignore_index=True)"
   ]
  },
  {
   "cell_type": "code",
   "execution_count": 455,
   "metadata": {
    "collapsed": false
   },
   "outputs": [
    {
     "data": {
      "text/plain": [
       "<pandas.core.indexing._LocIndexer at 0x10b13be90>"
      ]
     },
     "execution_count": 455,
     "metadata": {},
     "output_type": "execute_result"
    }
   ],
   "source": [
    "df.loc()"
   ]
  },
  {
   "cell_type": "markdown",
   "metadata": {},
   "source": [
    "###<font color='red'>Orientation: delta = column 1, Color: delta = column 2"
   ]
  },
  {
   "cell_type": "code",
   "execution_count": 456,
   "metadata": {
    "collapsed": false
   },
   "outputs": [
    {
     "name": "stdout",
     "output_type": "stream",
     "text": [
      "     Name Feature          1  8\n",
      "2995  WZ0     Ori -62.423398  1\n",
      "2996  WZ0     Ori  65.431755  1\n",
      "2997  WZ0     Ori   2.256267  0\n",
      "2998  WZ0     Ori -48.885794  1\n",
      "2999  WZ0     Ori -80.473538  0\n",
      "     Name Feature    2  8\n",
      "3000  HJK     Col   78  1\n",
      "3001  HJK     Col  314  0\n",
      "3002  HJK     Col  199  0\n",
      "3003  HJK     Col  101  1\n",
      "3004  HJK     Col   66  1\n"
     ]
    }
   ],
   "source": [
    "df_temp = df[['Name','Feature',1,2,8]]\n",
    "df_ori = df_temp.loc[:len(df_temp)/2-1,['Name','Feature',1,8]]\n",
    "df_col = df_temp.loc[len(df_temp)/2:,['Name','Feature',2,8]]\n",
    "print df_ori.tail()\n",
    "print df_col.head()"
   ]
  },
  {
   "cell_type": "code",
   "execution_count": 457,
   "metadata": {
    "collapsed": true
   },
   "outputs": [],
   "source": [
    "# Assign column names\n",
    "df_ori.columns = ['Subject', 'Feature','Delta','Correct']\n",
    "df_col.columns = ['Subject', 'Feature','Delta','Correct']"
   ]
  },
  {
   "cell_type": "markdown",
   "metadata": {},
   "source": [
    "##1.2 Remap the delta for color data"
   ]
  },
  {
   "cell_type": "code",
   "execution_count": 458,
   "metadata": {
    "collapsed": false
   },
   "outputs": [],
   "source": [
    "\"\"\"\n",
    "    Remapping color change magnitude\n",
    "    Original range: range(1,361)\n",
    "    Remap:\n",
    "        1, ... 180: delta\n",
    "        181, ..., 360: 360 - delta\n",
    "    df['c'+str(i+1)] = df['C'+str(i+1)].apply((lambda x: hextorgb(x)))\n",
    "\n",
    "\"\"\"\n",
    "def remap_colors(old_delta):\n",
    "    if old_delta <= 180:\n",
    "        new_delta = old_delta\n",
    "    else:\n",
    "        new_delta = 360 - old_delta\n",
    "    if new_delta == 0:\n",
    "        new_delta = 0.0001\n",
    "    return new_delta/2\n",
    "# remap\n",
    "df_col.Delta = df_col.loc[:,'Delta'].apply((lambda x: remap_colors(x)))"
   ]
  },
  {
   "cell_type": "code",
   "execution_count": 462,
   "metadata": {
    "collapsed": false
   },
   "outputs": [
    {
     "data": {
      "text/html": [
       "<div style=\"max-height:1000px;max-width:1500px;overflow:auto;\">\n",
       "<table border=\"1\" class=\"dataframe\">\n",
       "  <thead>\n",
       "    <tr style=\"text-align: right;\">\n",
       "      <th></th>\n",
       "      <th>Delta</th>\n",
       "      <th>Correct</th>\n",
       "    </tr>\n",
       "  </thead>\n",
       "  <tbody>\n",
       "    <tr>\n",
       "      <th>count</th>\n",
       "      <td>3000.000000</td>\n",
       "      <td>3000.000000</td>\n",
       "    </tr>\n",
       "    <tr>\n",
       "      <th>mean</th>\n",
       "      <td>45.836333</td>\n",
       "      <td>0.716667</td>\n",
       "    </tr>\n",
       "    <tr>\n",
       "      <th>std</th>\n",
       "      <td>26.191319</td>\n",
       "      <td>0.450692</td>\n",
       "    </tr>\n",
       "    <tr>\n",
       "      <th>min</th>\n",
       "      <td>0.000050</td>\n",
       "      <td>0.000000</td>\n",
       "    </tr>\n",
       "    <tr>\n",
       "      <th>25%</th>\n",
       "      <td>23.000000</td>\n",
       "      <td>0.000000</td>\n",
       "    </tr>\n",
       "    <tr>\n",
       "      <th>50%</th>\n",
       "      <td>46.000000</td>\n",
       "      <td>1.000000</td>\n",
       "    </tr>\n",
       "    <tr>\n",
       "      <th>75%</th>\n",
       "      <td>68.500000</td>\n",
       "      <td>1.000000</td>\n",
       "    </tr>\n",
       "    <tr>\n",
       "      <th>max</th>\n",
       "      <td>90.000000</td>\n",
       "      <td>1.000000</td>\n",
       "    </tr>\n",
       "  </tbody>\n",
       "</table>\n",
       "</div>"
      ],
      "text/plain": [
       "             Delta      Correct\n",
       "count  3000.000000  3000.000000\n",
       "mean     45.836333     0.716667\n",
       "std      26.191319     0.450692\n",
       "min       0.000050     0.000000\n",
       "25%      23.000000     0.000000\n",
       "50%      46.000000     1.000000\n",
       "75%      68.500000     1.000000\n",
       "max      90.000000     1.000000"
      ]
     },
     "execution_count": 462,
     "metadata": {},
     "output_type": "execute_result"
    }
   ],
   "source": [
    "df_col.describe()"
   ]
  },
  {
   "cell_type": "code",
   "execution_count": 463,
   "metadata": {
    "collapsed": false,
    "scrolled": false
   },
   "outputs": [
    {
     "data": {
      "text/html": [
       "<div style=\"max-height:1000px;max-width:1500px;overflow:auto;\">\n",
       "<table border=\"1\" class=\"dataframe\">\n",
       "  <thead>\n",
       "    <tr style=\"text-align: right;\">\n",
       "      <th></th>\n",
       "      <th>Subject</th>\n",
       "      <th>Feature</th>\n",
       "      <th>Delta</th>\n",
       "      <th>Correct</th>\n",
       "    </tr>\n",
       "  </thead>\n",
       "  <tbody>\n",
       "    <tr>\n",
       "      <th>0</th>\n",
       "      <td>HJK</td>\n",
       "      <td>Ori</td>\n",
       "      <td>88.997214</td>\n",
       "      <td>1</td>\n",
       "    </tr>\n",
       "    <tr>\n",
       "      <th>1</th>\n",
       "      <td>HJK</td>\n",
       "      <td>Ori</td>\n",
       "      <td>-15.793872</td>\n",
       "      <td>0</td>\n",
       "    </tr>\n",
       "    <tr>\n",
       "      <th>2</th>\n",
       "      <td>HJK</td>\n",
       "      <td>Ori</td>\n",
       "      <td>85.487465</td>\n",
       "      <td>1</td>\n",
       "    </tr>\n",
       "    <tr>\n",
       "      <th>3</th>\n",
       "      <td>HJK</td>\n",
       "      <td>Ori</td>\n",
       "      <td>-56.406685</td>\n",
       "      <td>1</td>\n",
       "    </tr>\n",
       "    <tr>\n",
       "      <th>4</th>\n",
       "      <td>HJK</td>\n",
       "      <td>Ori</td>\n",
       "      <td>-57.409471</td>\n",
       "      <td>1</td>\n",
       "    </tr>\n",
       "  </tbody>\n",
       "</table>\n",
       "</div>"
      ],
      "text/plain": [
       "  Subject Feature      Delta  Correct\n",
       "0     HJK     Ori  88.997214        1\n",
       "1     HJK     Ori -15.793872        0\n",
       "2     HJK     Ori  85.487465        1\n",
       "3     HJK     Ori -56.406685        1\n",
       "4     HJK     Ori -57.409471        1"
      ]
     },
     "execution_count": 463,
     "metadata": {},
     "output_type": "execute_result"
    }
   ],
   "source": [
    "# Concatenate\n",
    "df_short = pd.concat([df_ori,df_col],ignore_index=True)\n",
    "df_short.head()"
   ]
  },
  {
   "cell_type": "markdown",
   "metadata": {},
   "source": [
    "##1.3 Bin the data based on the change magnitude (delta)"
   ]
  },
  {
   "cell_type": "markdown",
   "metadata": {},
   "source": [
    "###<font color='red'>Adding new columns to a df -> Use df.loc[:,new_column_name] = value\n",
    "\n",
    "###<font color='red'>Selecting cells based on location  -> Use df.iloc[list or int,list or int] = value"
   ]
  },
  {
   "cell_type": "code",
   "execution_count": 464,
   "metadata": {
    "collapsed": false
   },
   "outputs": [],
   "source": [
    "\"\"\"\n",
    "    Objective: Binning the data\n",
    "    1. Get absolute values of delta\n",
    "    2. Create index for delta\n",
    "    3. Create an column\n",
    "    4. Groupby\n",
    "\"\"\"\n",
    "#1. Get absolute values of delta and add it as a new column\n",
    "df_short.loc[:,'AbsDelta']=abs(df_short['Delta'].values)"
   ]
  },
  {
   "cell_type": "code",
   "execution_count": 465,
   "metadata": {
    "collapsed": false,
    "scrolled": false
   },
   "outputs": [
    {
     "name": "stdout",
     "output_type": "stream",
     "text": [
      "bins=[  0.  10.  20.  30.  40.  50.  60.  70.  80.  90.]\n",
      "ind(1)=633\n",
      "ind(2)=690\n",
      "ind(3)=635\n",
      "ind(4)=679\n",
      "ind(5)=681\n",
      "ind(6)=636\n",
      "ind(7)=695\n",
      "ind(8)=637\n",
      "ind(9)=714\n",
      "total = 6000\n"
     ]
    }
   ],
   "source": [
    "#2. Creat a new index based on bin size\n",
    "def label_bin(data,n_bins):\n",
    "    # takes data and bin size as input, and gives labels to each data point based on histogram results\n",
    "    bins = np.linspace(round(min(data)),round(max(data)),n_bins)\n",
    "    # right=True: the intervals include the right or the left bin edge. \n",
    "    # Digitize default behavior (right==False): does not include right edge\n",
    "    inds = np.digitize(data, bins, right=True)\n",
    "    return bins, inds\n",
    "\n",
    "bins, inds = label_bin(df_short.AbsDelta,10)\n",
    "print 'bins=' + str(bins)\n",
    "\n",
    "# Double check if the sum of the inds in each bin is the number of the total data points\n",
    "tot = 0\n",
    "for i in range(min(inds),max(inds)+1):\n",
    "    print 'ind(' + str(i) + ')=' + str(np.shape(np.where(inds==i))[1])\n",
    "    tot += np.shape(np.where(inds==i))[1]\n",
    "print 'total = ' + str(tot)"
   ]
  },
  {
   "cell_type": "code",
   "execution_count": 466,
   "metadata": {
    "collapsed": true
   },
   "outputs": [],
   "source": [
    "#3. Add this as a new column\n",
    "df_short.loc[:,'DeltaInd']=inds"
   ]
  },
  {
   "cell_type": "code",
   "execution_count": 467,
   "metadata": {
    "collapsed": false
   },
   "outputs": [
    {
     "data": {
      "text/html": [
       "<div style=\"max-height:1000px;max-width:1500px;overflow:auto;\">\n",
       "<table border=\"1\" class=\"dataframe\">\n",
       "  <thead>\n",
       "    <tr style=\"text-align: right;\">\n",
       "      <th></th>\n",
       "      <th>Subject</th>\n",
       "      <th>Feature</th>\n",
       "      <th>Delta</th>\n",
       "      <th>Correct</th>\n",
       "      <th>AbsDelta</th>\n",
       "      <th>DeltaInd</th>\n",
       "    </tr>\n",
       "  </thead>\n",
       "  <tbody>\n",
       "    <tr>\n",
       "      <th>0</th>\n",
       "      <td>HJK</td>\n",
       "      <td>Ori</td>\n",
       "      <td>88.997214</td>\n",
       "      <td>1</td>\n",
       "      <td>88.997214</td>\n",
       "      <td>9</td>\n",
       "    </tr>\n",
       "    <tr>\n",
       "      <th>1</th>\n",
       "      <td>HJK</td>\n",
       "      <td>Ori</td>\n",
       "      <td>-15.793872</td>\n",
       "      <td>0</td>\n",
       "      <td>15.793872</td>\n",
       "      <td>2</td>\n",
       "    </tr>\n",
       "    <tr>\n",
       "      <th>2</th>\n",
       "      <td>HJK</td>\n",
       "      <td>Ori</td>\n",
       "      <td>85.487465</td>\n",
       "      <td>1</td>\n",
       "      <td>85.487465</td>\n",
       "      <td>9</td>\n",
       "    </tr>\n",
       "    <tr>\n",
       "      <th>3</th>\n",
       "      <td>HJK</td>\n",
       "      <td>Ori</td>\n",
       "      <td>-56.406685</td>\n",
       "      <td>1</td>\n",
       "      <td>56.406685</td>\n",
       "      <td>6</td>\n",
       "    </tr>\n",
       "    <tr>\n",
       "      <th>4</th>\n",
       "      <td>HJK</td>\n",
       "      <td>Ori</td>\n",
       "      <td>-57.409471</td>\n",
       "      <td>1</td>\n",
       "      <td>57.409471</td>\n",
       "      <td>6</td>\n",
       "    </tr>\n",
       "  </tbody>\n",
       "</table>\n",
       "</div>"
      ],
      "text/plain": [
       "  Subject Feature      Delta  Correct   AbsDelta  DeltaInd\n",
       "0     HJK     Ori  88.997214        1  88.997214         9\n",
       "1     HJK     Ori -15.793872        0  15.793872         2\n",
       "2     HJK     Ori  85.487465        1  85.487465         9\n",
       "3     HJK     Ori -56.406685        1  56.406685         6\n",
       "4     HJK     Ori -57.409471        1  57.409471         6"
      ]
     },
     "execution_count": 467,
     "metadata": {},
     "output_type": "execute_result"
    }
   ],
   "source": [
    "df_short.head()"
   ]
  },
  {
   "cell_type": "markdown",
   "metadata": {},
   "source": [
    "##1.4 Compute summary statistics"
   ]
  },
  {
   "cell_type": "code",
   "execution_count": 551,
   "metadata": {
    "collapsed": true
   },
   "outputs": [],
   "source": [
    "\"\"\"\n",
    "    Use Pandas groupby to compute statistics easily\n",
    "\"\"\"\n",
    "grouped = df_short.groupby(['Feature','DeltaInd'])\n",
    "df_mean = grouped.mean()\n",
    "df_ste = grouped.std()/np.sqrt(len(subject_names))"
   ]
  },
  {
   "cell_type": "code",
   "execution_count": 578,
   "metadata": {
    "collapsed": false
   },
   "outputs": [
    {
     "data": {
      "image/png": "[encoded data removed]",
      "text/plain": [
       "<matplotlib.figure.Figure at 0x10b1e4990>"
      ]
     },
     "metadata": {},
     "output_type": "display_data"
    }
   ],
   "source": [
    "\"\"\"\n",
    "    Draw plots\n",
    "    Simple way of calling groups: ex) df_mean.Correct.Ori\n",
    "\"\"\"\n",
    "\n",
    "fig, (ax1, ax2) = plt.subplots(1,2,sharey=True)\n",
    "fig.set_size_inches(12, 5)\n",
    "\n",
    "# Choose a mid-point of each bin for plotting\n",
    "bins_loc = bins[:-1]+np.diff([bins[0],bins[1]])/2\n",
    "\n",
    "# Draw mean with errors\n",
    "ax1.errorbar(bins_loc,df_mean.Correct.Ori,yerr=df_ste.Correct.Ori/2, color='black', fmt='o--', mfc='white')\n",
    "ax2.errorbar(bins_loc,df_mean.Correct.Col,yerr=df_ste.Correct.Col/2, color='black', fmt='o--', mfc='white')\n",
    "\n",
    "# Axes\n",
    "plt.ylim(0,1)\n",
    "ax1.set_xticks([0,30,60,90])\n",
    "ax2.set_xticks([0,30,60,90])\n",
    "\n",
    "# Labels\n",
    "ax1.set_ylabel('Proportion correct')\n",
    "ax1.set_title('Orientation')\n",
    "ax1.set_xlabel('Change magnitude ($^\\circ$)')\n",
    "ax2.set_title('Color')\n",
    "ax2.set_xlabel('Change magnitude ($^\\circ$)')\n",
    "\n",
    "plt.show()"
   ]
  }
 ],
 "metadata": {
  "kernelspec": {
   "display_name": "Python 2",
   "language": "python",
   "name": "python2"
  },
  "language_info": {
   "codemirror_mode": {
    "name": "ipython",
    "version": 2
   },
   "file_extension": ".py",
   "mimetype": "text/x-python",
   "name": "python",
   "nbconvert_exporter": "python",
   "pygments_lexer": "ipython2",
   "version": "2.7.10"
  }
 },
 "nbformat": 4,
 "nbformat_minor": 0
}
