{
 "cells": [
  {
   "cell_type": "markdown",
   "metadata": {},
   "source": [
    "# Hypothesis Testing on Subject Performance (Two-Feature)\n",
    "-----\n",
    "This notebook refers to the work in the \"two-feature\" manuscript (under review, Jan 2016). This is to test the null hypothesis on subject performance from Experiments 1, 2, 3 and 5, which is subject performance is not affected by change magnitude or conditions."
   ]
  },
  {
   "cell_type": "code",
   "execution_count": 3,
   "metadata": {
    "collapsed": true
   },
   "outputs": [],
   "source": [
    "import fnmatch # file name matching\n",
    "import os\n",
    "from scipy.io import loadmat\n",
    "\n",
    "from pandas import DataFrame, Series\n",
    "import pandas as pd\n",
    "import scipy as sp\n",
    "import numpy as np\n",
    "\n",
    "import matplotlib.pyplot as plt\n",
    "%matplotlib inline"
   ]
  },
  {
   "cell_type": "markdown",
   "metadata": {},
   "source": [
    "# 1. Load Data\n",
    "## Experiment 1: Condition B vs. Condition C\n",
    "### _N_=4\n",
    "- Condition B: orientation and color both are relevant\n",
    "- Condition C orientation: only orientation is present, and relevant\n",
    "- Condition C color: only color is present, and relevant"
   ]
  },
  {
   "cell_type": "code",
   "execution_count": 71,
   "metadata": {
    "collapsed": true
   },
   "outputs": [],
   "source": [
    "# set file path\n",
    "pathname = 'two_feature_data/Exp1_4/'\n",
    "subject_names = ['AAR','HS0','JSK','KL0','LLT','RRS','WK0','WR0']\n",
    "exp_ids = [3,4,8,9] # 3: orientation (1F), 4: color (1F), 8 and 9: 2F\n",
    "exp_code = 2"
   ]
  },
  {
   "cell_type": "code",
   "execution_count": 163,
   "metadata": {
    "collapsed": false
   },
   "outputs": [],
   "source": [
    "# Create a DataFrame from mat files by looping over subjects (subject_names)\n",
    "def concat_matfiles(exp_code,exp_ids,pathname,subject_names,exp_num=0):\n",
    "    file_names = os.listdir(pathname)\n",
    "    \n",
    "    df = DataFrame()\n",
    "    for exp_id in exp_ids:\n",
    "        temp2 = DataFrame()\n",
    "        for subject_name in subject_names:\n",
    "\n",
    "            # Create a tag to find files based on a subject name\n",
    "            if exp_num == 0:\n",
    "                subject_tag = subject_name + str(exp_code) + '_' + str(exp_id) + '_'\n",
    "            else:\n",
    "                subject_tag = subject_name + str(exp_code) + '_' + str(exp_code) + '_' + str(exp_id) + '_'\n",
    "            subject_files = fnmatch.filter(file_names, subject_tag + '*.mat') # Filter the files\n",
    "\n",
    "            # Loop over filtered files\n",
    "            temp1 = DataFrame()\n",
    "            for subject_file in subject_files:\n",
    "\n",
    "                # Convert a MATLAB matrix to a DataFrame\n",
    "                temp0 = DataFrame(loadmat(pathname+subject_file)['datamatrix'])\n",
    "                temp1 = pd.concat([temp1,temp0],ignore_index=True) # Concatenate DataFrames\n",
    "\n",
    "            # Create a column to assign subject names\n",
    "            temp1['Name'] = DataFrame([subject_name]*len(temp1))\n",
    "            temp2 = pd.concat([temp2,temp1],ignore_index=True) # Concatenate\n",
    "\n",
    "            # Create a column to assign experiment index\n",
    "            if exp_id == 3:\n",
    "                feat_name = 'Ori'\n",
    "            elif exp_id == 4:\n",
    "                feat_name = 'Col'\n",
    "            elif exp_id == 5:\n",
    "                feat_name = 'Ori_all'\n",
    "            elif exp_id == 6:\n",
    "                feat_name = 'Col_all'\n",
    "            elif exp_code == 6 and exp_id == 1:\n",
    "                feat_name = 'Ori_one'\n",
    "            elif exp_code == 6 and exp_id == 2:\n",
    "                feat_name = 'Col_one'\n",
    "                \n",
    "            temp2['Feature'] = DataFrame([feat_name]*len(temp2))\n",
    "                \n",
    "        # Concatenate all subject data to create a single DataFrame            \n",
    "        df = pd.concat([df,temp2],ignore_index=True)\n",
    "    return df"
   ]
  },
  {
   "cell_type": "code",
   "execution_count": 164,
   "metadata": {
    "collapsed": false
   },
   "outputs": [],
   "source": [
    "df = concat_matfiles(exp_code,exp_ids,pathname,subject_names)\n",
    "df1 = df[['Name','Feature',1,2,8]]\n",
    "df1.columns = ['Subject','Feature','Delta_Ori','Delta_Col','Correct']"
   ]
  },
  {
   "cell_type": "code",
   "execution_count": 74,
   "metadata": {
    "collapsed": true
   },
   "outputs": [],
   "source": [
    "def remap_colors(old_delta):\n",
    "    if old_delta <= 180:\n",
    "        new_delta = old_delta\n",
    "    else:\n",
    "        new_delta = 360 - old_delta\n",
    "    new_delta = new_delta/2.0\n",
    "    return new_delta"
   ]
  },
  {
   "cell_type": "code",
   "execution_count": 165,
   "metadata": {
    "collapsed": false
   },
   "outputs": [
    {
     "data": {
      "text/html": [
       "<div>\n",
       "<table border=\"1\" class=\"dataframe\">\n",
       "  <thead>\n",
       "    <tr style=\"text-align: right;\">\n",
       "      <th></th>\n",
       "      <th>Delta_Ori</th>\n",
       "      <th>Delta_Col</th>\n",
       "      <th>Correct</th>\n",
       "    </tr>\n",
       "  </thead>\n",
       "  <tbody>\n",
       "    <tr>\n",
       "      <th>count</th>\n",
       "      <td>19200.000000</td>\n",
       "      <td>19200.000000</td>\n",
       "      <td>19200.000000</td>\n",
       "    </tr>\n",
       "    <tr>\n",
       "      <th>mean</th>\n",
       "      <td>-0.359018</td>\n",
       "      <td>22.242943</td>\n",
       "      <td>0.351250</td>\n",
       "    </tr>\n",
       "    <tr>\n",
       "      <th>std</th>\n",
       "      <td>36.911073</td>\n",
       "      <td>28.901904</td>\n",
       "      <td>0.477373</td>\n",
       "    </tr>\n",
       "    <tr>\n",
       "      <th>min</th>\n",
       "      <td>-90.000000</td>\n",
       "      <td>0.000000</td>\n",
       "      <td>0.000000</td>\n",
       "    </tr>\n",
       "    <tr>\n",
       "      <th>25%</th>\n",
       "      <td>-0.752089</td>\n",
       "      <td>0.000000</td>\n",
       "      <td>0.000000</td>\n",
       "    </tr>\n",
       "    <tr>\n",
       "      <th>50%</th>\n",
       "      <td>0.000000</td>\n",
       "      <td>0.000000</td>\n",
       "      <td>0.000000</td>\n",
       "    </tr>\n",
       "    <tr>\n",
       "      <th>75%</th>\n",
       "      <td>0.250696</td>\n",
       "      <td>44.000000</td>\n",
       "      <td>1.000000</td>\n",
       "    </tr>\n",
       "    <tr>\n",
       "      <th>max</th>\n",
       "      <td>90.000000</td>\n",
       "      <td>90.000000</td>\n",
       "      <td>1.000000</td>\n",
       "    </tr>\n",
       "  </tbody>\n",
       "</table>\n",
       "</div>"
      ],
      "text/plain": [
       "          Delta_Ori     Delta_Col       Correct\n",
       "count  19200.000000  19200.000000  19200.000000\n",
       "mean      -0.359018     22.242943      0.351250\n",
       "std       36.911073     28.901904      0.477373\n",
       "min      -90.000000      0.000000      0.000000\n",
       "25%       -0.752089      0.000000      0.000000\n",
       "50%        0.000000      0.000000      0.000000\n",
       "75%        0.250696     44.000000      1.000000\n",
       "max       90.000000     90.000000      1.000000"
      ]
     },
     "execution_count": 165,
     "metadata": {},
     "output_type": "execute_result"
    }
   ],
   "source": [
    "df1.Delta_Col = df1.Delta_Col.apply((lambda x: remap_colors(x)))\n",
    "df1.describe()"
   ]
  },
  {
   "cell_type": "markdown",
   "metadata": {},
   "source": [
    "## Experiment 2: Condition B vs. Condition A\n",
    "- Condition B: orientation and color both are relevant\n",
    "- Condition A orientation: both features are present, but orientation is relevant\n",
    "- Condition A color: both features are present, but color is relevant\n",
    "\n",
    "### _N_=8"
   ]
  },
  {
   "cell_type": "code",
   "execution_count": 166,
   "metadata": {
    "collapsed": true
   },
   "outputs": [],
   "source": [
    "pathname = 'two_feature_data/Exp1_8/'\n",
    "subject_names = ['AAR','HJK','HS0','JSK','JYP','KL0','MBC','WK0']\n",
    "exp_ids = [3,4,8,9] # 3: orientation (1F), 4: color (1F), 8 and 9: 2F\n",
    "exp_code = 4"
   ]
  },
  {
   "cell_type": "code",
   "execution_count": 167,
   "metadata": {
    "collapsed": false,
    "scrolled": false
   },
   "outputs": [],
   "source": [
    "df = concat_matfiles(exp_code,exp_ids,pathname,subject_names)\n",
    "df2 = df[['Name','Feature',1,2,8]]\n",
    "df2.columns = ['Subject','Feature','Delta_Ori','Delta_Col','Correct']"
   ]
  },
  {
   "cell_type": "code",
   "execution_count": 168,
   "metadata": {
    "collapsed": false
   },
   "outputs": [
    {
     "data": {
      "text/html": [
       "<div>\n",
       "<table border=\"1\" class=\"dataframe\">\n",
       "  <thead>\n",
       "    <tr style=\"text-align: right;\">\n",
       "      <th></th>\n",
       "      <th>Delta_Ori</th>\n",
       "      <th>Delta_Col</th>\n",
       "      <th>Correct</th>\n",
       "    </tr>\n",
       "  </thead>\n",
       "  <tbody>\n",
       "    <tr>\n",
       "      <th>count</th>\n",
       "      <td>19200.000000</td>\n",
       "      <td>19200.000000</td>\n",
       "      <td>19200.000000</td>\n",
       "    </tr>\n",
       "    <tr>\n",
       "      <th>mean</th>\n",
       "      <td>-0.359018</td>\n",
       "      <td>22.242943</td>\n",
       "      <td>0.351250</td>\n",
       "    </tr>\n",
       "    <tr>\n",
       "      <th>std</th>\n",
       "      <td>36.911073</td>\n",
       "      <td>28.901904</td>\n",
       "      <td>0.477373</td>\n",
       "    </tr>\n",
       "    <tr>\n",
       "      <th>min</th>\n",
       "      <td>-90.000000</td>\n",
       "      <td>0.000000</td>\n",
       "      <td>0.000000</td>\n",
       "    </tr>\n",
       "    <tr>\n",
       "      <th>25%</th>\n",
       "      <td>-0.752089</td>\n",
       "      <td>0.000000</td>\n",
       "      <td>0.000000</td>\n",
       "    </tr>\n",
       "    <tr>\n",
       "      <th>50%</th>\n",
       "      <td>0.000000</td>\n",
       "      <td>0.000000</td>\n",
       "      <td>0.000000</td>\n",
       "    </tr>\n",
       "    <tr>\n",
       "      <th>75%</th>\n",
       "      <td>0.250696</td>\n",
       "      <td>44.000000</td>\n",
       "      <td>1.000000</td>\n",
       "    </tr>\n",
       "    <tr>\n",
       "      <th>max</th>\n",
       "      <td>90.000000</td>\n",
       "      <td>90.000000</td>\n",
       "      <td>1.000000</td>\n",
       "    </tr>\n",
       "  </tbody>\n",
       "</table>\n",
       "</div>"
      ],
      "text/plain": [
       "          Delta_Ori     Delta_Col       Correct\n",
       "count  19200.000000  19200.000000  19200.000000\n",
       "mean      -0.359018     22.242943      0.351250\n",
       "std       36.911073     28.901904      0.477373\n",
       "min      -90.000000      0.000000      0.000000\n",
       "25%       -0.752089      0.000000      0.000000\n",
       "50%        0.000000      0.000000      0.000000\n",
       "75%        0.250696     44.000000      1.000000\n",
       "max       90.000000     90.000000      1.000000"
      ]
     },
     "execution_count": 168,
     "metadata": {},
     "output_type": "execute_result"
    }
   ],
   "source": [
    "df2.Delta_Col = df2.Delta_Col.apply((lambda x: remap_colors(x)))\n",
    "df2.describe()"
   ]
  },
  {
   "cell_type": "markdown",
   "metadata": {},
   "source": [
    "# Experiment 3: Condition A vs. Condition C vs. Condition D\n",
    "- Condition A: one relevant feature ('two_feature_data/Exp1_4/')\n",
    "- Condition C: one relevant feature, one changing irrelevant feature ('two_feature_data/Exp3_one_change')\n",
    "- Condition D: one relevant feature, all changing irrelevant feature ('two_feature_data/Exp3_all_change')"
   ]
  },
  {
   "cell_type": "code",
   "execution_count": 169,
   "metadata": {
    "collapsed": false
   },
   "outputs": [
    {
     "name": "stdout",
     "output_type": "stream",
     "text": [
      "set(['WK0', 'HS0', 'HJK', 'WZ0', 'LLT'])\n"
     ]
    }
   ],
   "source": [
    "pathnameC = 'one_change_lab/'\n",
    "pathnameAD = 'two_feature_data/Exp3_all_change/' # this contains both Conditions A and D\n",
    "subject_namesC = ['HJK','HS0','LLT','WK0','WZ0']\n",
    "subject_namesAD = ['HJK','HS0','JSK','LLT','LN0','MBC','WK0','WZ0']\n",
    "\n",
    "# there are only 3 subjects who did all experiments\n",
    "common_subjects = set(subject_namesC) & set(subject_namesAD)\n",
    "print common_subjects"
   ]
  },
  {
   "cell_type": "code",
   "execution_count": 170,
   "metadata": {
    "collapsed": true
   },
   "outputs": [],
   "source": [
    "exp_idsAD = [3,4,5,6] # 5: orientation + irrelevant color, 6: color + irrelevant orientation\n",
    "exp_idsC = [1,2] # 1: orientation, 2: color\n",
    "exp_codeAD = 3\n",
    "exp_codeC = 6"
   ]
  },
  {
   "cell_type": "code",
   "execution_count": 174,
   "metadata": {
    "collapsed": false
   },
   "outputs": [],
   "source": [
    "dfAD = concat_matfiles(exp_codeAD,exp_idsAD,pathnameAD,common_subjects)\n",
    "dfC = concat_matfiles(exp_codeC,exp_idsC,pathnameC,common_subjects,exp_num=1)\n",
    "df = pd.concat([dfAD,dfC],ignore_index=True)\n",
    "df3 = df[['Name','Feature',1,2,8]]\n",
    "df3.columns = ['Subject','Feature','Delta_Ori','Delta_Col','Correct']"
   ]
  },
  {
   "cell_type": "code",
   "execution_count": 178,
   "metadata": {
    "collapsed": false,
    "scrolled": true
   },
   "outputs": [
    {
     "data": {
      "text/html": [
       "<div>\n",
       "<table border=\"1\" class=\"dataframe\">\n",
       "  <thead>\n",
       "    <tr style=\"text-align: right;\">\n",
       "      <th></th>\n",
       "      <th>Delta_Ori</th>\n",
       "      <th>Delta_Col</th>\n",
       "      <th>Correct</th>\n",
       "    </tr>\n",
       "  </thead>\n",
       "  <tbody>\n",
       "    <tr>\n",
       "      <th>count</th>\n",
       "      <td>18000.000000</td>\n",
       "      <td>18000.000000</td>\n",
       "      <td>18000.000000</td>\n",
       "    </tr>\n",
       "    <tr>\n",
       "      <th>mean</th>\n",
       "      <td>-0.576351</td>\n",
       "      <td>30.277167</td>\n",
       "      <td>0.687500</td>\n",
       "    </tr>\n",
       "    <tr>\n",
       "      <th>std</th>\n",
       "      <td>42.391533</td>\n",
       "      <td>30.165285</td>\n",
       "      <td>0.463525</td>\n",
       "    </tr>\n",
       "    <tr>\n",
       "      <th>min</th>\n",
       "      <td>-90.000000</td>\n",
       "      <td>0.000000</td>\n",
       "      <td>0.000000</td>\n",
       "    </tr>\n",
       "    <tr>\n",
       "      <th>25%</th>\n",
       "      <td>-23.816156</td>\n",
       "      <td>0.000000</td>\n",
       "      <td>0.000000</td>\n",
       "    </tr>\n",
       "    <tr>\n",
       "      <th>50%</th>\n",
       "      <td>0.000000</td>\n",
       "      <td>23.000000</td>\n",
       "      <td>1.000000</td>\n",
       "    </tr>\n",
       "    <tr>\n",
       "      <th>75%</th>\n",
       "      <td>21.309192</td>\n",
       "      <td>57.000000</td>\n",
       "      <td>1.000000</td>\n",
       "    </tr>\n",
       "    <tr>\n",
       "      <th>max</th>\n",
       "      <td>90.000000</td>\n",
       "      <td>90.000000</td>\n",
       "      <td>1.000000</td>\n",
       "    </tr>\n",
       "  </tbody>\n",
       "</table>\n",
       "</div>"
      ],
      "text/plain": [
       "          Delta_Ori     Delta_Col       Correct\n",
       "count  18000.000000  18000.000000  18000.000000\n",
       "mean      -0.576351     30.277167      0.687500\n",
       "std       42.391533     30.165285      0.463525\n",
       "min      -90.000000      0.000000      0.000000\n",
       "25%      -23.816156      0.000000      0.000000\n",
       "50%        0.000000     23.000000      1.000000\n",
       "75%       21.309192     57.000000      1.000000\n",
       "max       90.000000     90.000000      1.000000"
      ]
     },
     "execution_count": 178,
     "metadata": {},
     "output_type": "execute_result"
    }
   ],
   "source": [
    "df3.Delta_Col = df3.Delta_Col.apply((lambda x: remap_colors(x)))\n",
    "df3.describe()"
   ]
  }
 ],
 "metadata": {
  "kernelspec": {
   "display_name": "Python 2",
   "language": "python",
   "name": "python2"
  },
  "language_info": {
   "codemirror_mode": {
    "name": "ipython",
    "version": 2
   },
   "file_extension": ".py",
   "mimetype": "text/x-python",
   "name": "python",
   "nbconvert_exporter": "python",
   "pygments_lexer": "ipython2",
   "version": "2.7.11"
  }
 },
 "nbformat": 4,
 "nbformat_minor": 0
}
