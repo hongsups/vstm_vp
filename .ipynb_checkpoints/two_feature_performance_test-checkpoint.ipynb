{
 "cells": [
  {
   "cell_type": "markdown",
   "metadata": {},
   "source": [
    "# Hypothesis Testing on Subject Performance (Two-Feature)\n",
    "-----\n",
    "This notebook refers to the work in the \"two-feature\" manuscript (under review, Jan 2016). This is to test the null hypothesis on subject performance from Experiments 1, 2, 3 and 5, which is subject performance is not affected by change magnitude or conditions."
   ]
  },
  {
   "cell_type": "code",
   "execution_count": 150,
   "metadata": {
    "collapsed": true
   },
   "outputs": [],
   "source": [
    "import fnmatch # file name matching\n",
    "import os\n",
    "from scipy.io import loadmat\n",
    "\n",
    "from pandas import DataFrame, Series\n",
    "import pandas as pd\n",
    "import scipy as sp\n",
    "import numpy as np\n",
    "\n",
    "import matplotlib.pyplot as plt\n",
    "%matplotlib inline\n",
    "import seaborn as sns\n",
    "sns.set('poster')\n",
    "sns.set_style('whitegrid')\n",
    "\n",
    "import statsmodels.api as sm\n",
    "\n",
    "pd.options.mode.chained_assignment = None \n",
    "\n",
    "# colors\n",
    "tableau20 = [(31, 119, 180), (174, 199, 232), (255, 127, 14), (255, 187, 120),    \n",
    "             (44, 160, 44), (152, 223, 138), (214, 39, 40), (255, 152, 150),    \n",
    "             (148, 103, 189), (197, 176, 213), (140, 86, 75), (196, 156, 148),    \n",
    "             (227, 119, 194), (247, 182, 210), (127, 127, 127), (199, 199, 199),    \n",
    "             (188, 189, 34), (219, 219, 141), (23, 190, 207), (158, 218, 229)]    \n",
    "  \n",
    "# Scale the RGB values to the [0, 1] range, which is the format matplotlib accepts.    \n",
    "for i in range(len(tableau20)):    \n",
    "    r, g, b = tableau20[i]    \n",
    "    tableau20[i] = (r / 255., g / 255., b / 255.)    "
   ]
  },
  {
   "cell_type": "markdown",
   "metadata": {},
   "source": [
    "# 1. Load Data\n",
    "## Experiment 1: Condition B vs. Condition C\n",
    "### _N_=4"
   ]
  },
  {
   "cell_type": "code",
   "execution_count": 2,
   "metadata": {
    "collapsed": true
   },
   "outputs": [],
   "source": [
    "# set file path\n",
    "pathname = 'two_feature_data/Exp1_4/'\n",
    "subject_names = ['AAR','HS0','JSK','KL0','LLT','RRS','WK0','WR0']\n",
    "exp_ids = [3,4,8,9] # 3: orientation (1F), 4: color (1F), 8 and 9: 2F\n",
    "exp_code = 2"
   ]
  },
  {
   "cell_type": "code",
   "execution_count": 3,
   "metadata": {
    "collapsed": false
   },
   "outputs": [],
   "source": [
    "# Create a DataFrame from mat files by looping over subjects (subject_names)\n",
    "def concat_matfiles(exp_code,exp_ids,pathname,subject_names,exp_num=0):\n",
    "    file_names = os.listdir(pathname)\n",
    "    \n",
    "    df = DataFrame()\n",
    "    for exp_id in exp_ids:\n",
    "        temp2 = DataFrame()\n",
    "        for subject_name in subject_names:\n",
    "\n",
    "            # Create a tag to find files based on a subject name\n",
    "            if exp_num == 0:\n",
    "                subject_tag = subject_name + str(exp_code) + '_' + str(exp_id) + '_'\n",
    "            else:\n",
    "                subject_tag = subject_name + str(exp_code) + '_' + str(exp_code) + '_' + str(exp_id) + '_'\n",
    "            subject_files = fnmatch.filter(file_names, subject_tag + '*.mat') # Filter the files\n",
    "\n",
    "            # Loop over filtered files\n",
    "            temp1 = DataFrame()\n",
    "            for subject_file in subject_files:\n",
    "\n",
    "                # Convert a MATLAB matrix to a DataFrame\n",
    "                temp0 = DataFrame(loadmat(pathname+subject_file)['datamatrix'])\n",
    "                temp1 = pd.concat([temp1,temp0],ignore_index=True) # Concatenate DataFrames\n",
    "\n",
    "            # Create a column to assign subject names\n",
    "            temp1['Name'] = DataFrame([subject_name]*len(temp1))\n",
    "            temp2 = pd.concat([temp2,temp1],ignore_index=True) # Concatenate\n",
    "\n",
    "            # Create a column to assign experiment index\n",
    "            if exp_id == 1:\n",
    "                feat_name = 'OriA'\n",
    "            elif exp_id == 2:\n",
    "                feat_name = 'ColA'\n",
    "            elif exp_id == 3:\n",
    "                feat_name = 'OriC'\n",
    "            elif exp_id == 4:\n",
    "                feat_name = 'ColC'\n",
    "            elif exp_id == 5:\n",
    "                feat_name = 'OriD2'\n",
    "            elif exp_id == 6:\n",
    "                feat_name = 'ColD2'\n",
    "            elif exp_code == 6 and exp_id == 1:\n",
    "                feat_name = 'OriD1'\n",
    "            elif exp_code == 6 and exp_id == 2:\n",
    "                feat_name = 'ColD1'\n",
    "            else:\n",
    "                feat_name = 'B'                \n",
    "            temp2['Feature'] = DataFrame([feat_name]*len(temp2))\n",
    "                \n",
    "        # Concatenate all subject data to create a single DataFrame            \n",
    "        df = pd.concat([df,temp2],ignore_index=True)\n",
    "    return df"
   ]
  },
  {
   "cell_type": "code",
   "execution_count": 4,
   "metadata": {
    "collapsed": false
   },
   "outputs": [],
   "source": [
    "df = concat_matfiles(exp_code,exp_ids,pathname,subject_names)\n",
    "df1 = df[['Name','Feature',1,2,8]]\n",
    "df1.columns = ['Subject','Feature','Delta_Ori','Delta_Col','Correct']"
   ]
  },
  {
   "cell_type": "code",
   "execution_count": 5,
   "metadata": {
    "collapsed": true
   },
   "outputs": [],
   "source": [
    "def remap_colors(old_delta):\n",
    "    if old_delta <= 180:\n",
    "        new_delta = old_delta\n",
    "    else:\n",
    "        new_delta = 360 - old_delta\n",
    "    new_delta = new_delta/2.0\n",
    "    return new_delta"
   ]
  },
  {
   "cell_type": "code",
   "execution_count": 6,
   "metadata": {
    "collapsed": false
   },
   "outputs": [
    {
     "data": {
      "text/html": [
       "<div>\n",
       "<table border=\"1\" class=\"dataframe\">\n",
       "  <thead>\n",
       "    <tr style=\"text-align: right;\">\n",
       "      <th></th>\n",
       "      <th>Delta_Ori</th>\n",
       "      <th>Delta_Col</th>\n",
       "      <th>Correct</th>\n",
       "    </tr>\n",
       "  </thead>\n",
       "  <tbody>\n",
       "    <tr>\n",
       "      <th>count</th>\n",
       "      <td>19200.000000</td>\n",
       "      <td>19200.000000</td>\n",
       "      <td>19200.000000</td>\n",
       "    </tr>\n",
       "    <tr>\n",
       "      <th>mean</th>\n",
       "      <td>0.144816</td>\n",
       "      <td>23.585052</td>\n",
       "      <td>0.655260</td>\n",
       "    </tr>\n",
       "    <tr>\n",
       "      <th>std</th>\n",
       "      <td>38.940657</td>\n",
       "      <td>29.221596</td>\n",
       "      <td>0.475296</td>\n",
       "    </tr>\n",
       "    <tr>\n",
       "      <th>min</th>\n",
       "      <td>-90.000000</td>\n",
       "      <td>0.000000</td>\n",
       "      <td>0.000000</td>\n",
       "    </tr>\n",
       "    <tr>\n",
       "      <th>25%</th>\n",
       "      <td>-9.777159</td>\n",
       "      <td>0.000000</td>\n",
       "      <td>0.000000</td>\n",
       "    </tr>\n",
       "    <tr>\n",
       "      <th>50%</th>\n",
       "      <td>0.000000</td>\n",
       "      <td>5.000000</td>\n",
       "      <td>1.000000</td>\n",
       "    </tr>\n",
       "    <tr>\n",
       "      <th>75%</th>\n",
       "      <td>11.281337</td>\n",
       "      <td>47.000000</td>\n",
       "      <td>1.000000</td>\n",
       "    </tr>\n",
       "    <tr>\n",
       "      <th>max</th>\n",
       "      <td>90.000000</td>\n",
       "      <td>90.000000</td>\n",
       "      <td>1.000000</td>\n",
       "    </tr>\n",
       "  </tbody>\n",
       "</table>\n",
       "</div>"
      ],
      "text/plain": [
       "          Delta_Ori     Delta_Col       Correct\n",
       "count  19200.000000  19200.000000  19200.000000\n",
       "mean       0.144816     23.585052      0.655260\n",
       "std       38.940657     29.221596      0.475296\n",
       "min      -90.000000      0.000000      0.000000\n",
       "25%       -9.777159      0.000000      0.000000\n",
       "50%        0.000000      5.000000      1.000000\n",
       "75%       11.281337     47.000000      1.000000\n",
       "max       90.000000     90.000000      1.000000"
      ]
     },
     "execution_count": 6,
     "metadata": {},
     "output_type": "execute_result"
    }
   ],
   "source": [
    "df1.Delta_Col = df1.Delta_Col.apply(lambda x: remap_colors(x))\n",
    "df1.describe()"
   ]
  },
  {
   "cell_type": "markdown",
   "metadata": {},
   "source": [
    "### _N_=8"
   ]
  },
  {
   "cell_type": "code",
   "execution_count": 7,
   "metadata": {
    "collapsed": true
   },
   "outputs": [],
   "source": [
    "pathname = 'two_feature_data/Exp1_8/'\n",
    "subject_names = ['AAR','HJK','HS0','JSK','JYP','KL0','MBC','WK0']\n",
    "exp_ids = [3,4,8,9] # 3: orientation (1F), 4: color (1F), 8 and 9: 2F\n",
    "exp_code = 4"
   ]
  },
  {
   "cell_type": "code",
   "execution_count": 8,
   "metadata": {
    "collapsed": false,
    "scrolled": false
   },
   "outputs": [],
   "source": [
    "df = concat_matfiles(exp_code,exp_ids,pathname,subject_names)\n",
    "df1_8 = df[['Name','Feature',1,2,8]]\n",
    "df1_8.columns = ['Subject','Feature','Delta_Ori','Delta_Col','Correct']"
   ]
  },
  {
   "cell_type": "code",
   "execution_count": 9,
   "metadata": {
    "collapsed": false
   },
   "outputs": [
    {
     "data": {
      "text/html": [
       "<div>\n",
       "<table border=\"1\" class=\"dataframe\">\n",
       "  <thead>\n",
       "    <tr style=\"text-align: right;\">\n",
       "      <th></th>\n",
       "      <th>Delta_Ori</th>\n",
       "      <th>Delta_Col</th>\n",
       "      <th>Correct</th>\n",
       "    </tr>\n",
       "  </thead>\n",
       "  <tbody>\n",
       "    <tr>\n",
       "      <th>count</th>\n",
       "      <td>19200.000000</td>\n",
       "      <td>19200.000000</td>\n",
       "      <td>19200.000000</td>\n",
       "    </tr>\n",
       "    <tr>\n",
       "      <th>mean</th>\n",
       "      <td>-0.359018</td>\n",
       "      <td>22.242943</td>\n",
       "      <td>0.351250</td>\n",
       "    </tr>\n",
       "    <tr>\n",
       "      <th>std</th>\n",
       "      <td>36.911073</td>\n",
       "      <td>28.901904</td>\n",
       "      <td>0.477373</td>\n",
       "    </tr>\n",
       "    <tr>\n",
       "      <th>min</th>\n",
       "      <td>-90.000000</td>\n",
       "      <td>0.000000</td>\n",
       "      <td>0.000000</td>\n",
       "    </tr>\n",
       "    <tr>\n",
       "      <th>25%</th>\n",
       "      <td>-0.752089</td>\n",
       "      <td>0.000000</td>\n",
       "      <td>0.000000</td>\n",
       "    </tr>\n",
       "    <tr>\n",
       "      <th>50%</th>\n",
       "      <td>0.000000</td>\n",
       "      <td>0.000000</td>\n",
       "      <td>0.000000</td>\n",
       "    </tr>\n",
       "    <tr>\n",
       "      <th>75%</th>\n",
       "      <td>0.250696</td>\n",
       "      <td>44.000000</td>\n",
       "      <td>1.000000</td>\n",
       "    </tr>\n",
       "    <tr>\n",
       "      <th>max</th>\n",
       "      <td>90.000000</td>\n",
       "      <td>90.000000</td>\n",
       "      <td>1.000000</td>\n",
       "    </tr>\n",
       "  </tbody>\n",
       "</table>\n",
       "</div>"
      ],
      "text/plain": [
       "          Delta_Ori     Delta_Col       Correct\n",
       "count  19200.000000  19200.000000  19200.000000\n",
       "mean      -0.359018     22.242943      0.351250\n",
       "std       36.911073     28.901904      0.477373\n",
       "min      -90.000000      0.000000      0.000000\n",
       "25%       -0.752089      0.000000      0.000000\n",
       "50%        0.000000      0.000000      0.000000\n",
       "75%        0.250696     44.000000      1.000000\n",
       "max       90.000000     90.000000      1.000000"
      ]
     },
     "execution_count": 9,
     "metadata": {},
     "output_type": "execute_result"
    }
   ],
   "source": [
    "df1_8.Delta_Col = df1_8.Delta_Col.apply((lambda x: remap_colors(x)))\n",
    "df1_8.describe()"
   ]
  },
  {
   "cell_type": "markdown",
   "metadata": {},
   "source": [
    "## Experiment 2: Condition C vs. Condition A"
   ]
  },
  {
   "cell_type": "code",
   "execution_count": 10,
   "metadata": {
    "collapsed": true
   },
   "outputs": [],
   "source": [
    "pathname = 'two_feature_data/Exp2/'\n",
    "subject_names = ['BT0','HJK','HS0','ISK','LLT','MLA','WK0','YC0']\n",
    "exp_ids = [1,2,3,4] # 3: orientation (1F), 4: color (1F), 8 and 9: 2F\n",
    "exp_code = 1"
   ]
  },
  {
   "cell_type": "code",
   "execution_count": 11,
   "metadata": {
    "collapsed": true
   },
   "outputs": [],
   "source": [
    "df = concat_matfiles(exp_code,exp_ids,pathname,subject_names)\n",
    "df2 = df[['Name','Feature',1,2,8]]\n",
    "df2.columns = ['Subject','Feature','Delta_Ori','Delta_Col','Correct']"
   ]
  },
  {
   "cell_type": "code",
   "execution_count": 12,
   "metadata": {
    "collapsed": false
   },
   "outputs": [
    {
     "data": {
      "text/html": [
       "<div>\n",
       "<table border=\"1\" class=\"dataframe\">\n",
       "  <thead>\n",
       "    <tr style=\"text-align: right;\">\n",
       "      <th></th>\n",
       "      <th>Delta_Ori</th>\n",
       "      <th>Delta_Col</th>\n",
       "      <th>Correct</th>\n",
       "    </tr>\n",
       "  </thead>\n",
       "  <tbody>\n",
       "    <tr>\n",
       "      <th>count</th>\n",
       "      <td>19200.000000</td>\n",
       "      <td>19200.000000</td>\n",
       "      <td>19200.000000</td>\n",
       "    </tr>\n",
       "    <tr>\n",
       "      <th>mean</th>\n",
       "      <td>-0.212752</td>\n",
       "      <td>22.643047</td>\n",
       "      <td>0.666875</td>\n",
       "    </tr>\n",
       "    <tr>\n",
       "      <th>std</th>\n",
       "      <td>36.844724</td>\n",
       "      <td>29.179735</td>\n",
       "      <td>0.471343</td>\n",
       "    </tr>\n",
       "    <tr>\n",
       "      <th>min</th>\n",
       "      <td>-90.000000</td>\n",
       "      <td>0.000000</td>\n",
       "      <td>0.000000</td>\n",
       "    </tr>\n",
       "    <tr>\n",
       "      <th>25%</th>\n",
       "      <td>-1.253482</td>\n",
       "      <td>0.000000</td>\n",
       "      <td>0.000000</td>\n",
       "    </tr>\n",
       "    <tr>\n",
       "      <th>50%</th>\n",
       "      <td>0.000000</td>\n",
       "      <td>0.000000</td>\n",
       "      <td>1.000000</td>\n",
       "    </tr>\n",
       "    <tr>\n",
       "      <th>75%</th>\n",
       "      <td>0.000000</td>\n",
       "      <td>45.500000</td>\n",
       "      <td>1.000000</td>\n",
       "    </tr>\n",
       "    <tr>\n",
       "      <th>max</th>\n",
       "      <td>90.000000</td>\n",
       "      <td>90.000000</td>\n",
       "      <td>1.000000</td>\n",
       "    </tr>\n",
       "  </tbody>\n",
       "</table>\n",
       "</div>"
      ],
      "text/plain": [
       "          Delta_Ori     Delta_Col       Correct\n",
       "count  19200.000000  19200.000000  19200.000000\n",
       "mean      -0.212752     22.643047      0.666875\n",
       "std       36.844724     29.179735      0.471343\n",
       "min      -90.000000      0.000000      0.000000\n",
       "25%       -1.253482      0.000000      0.000000\n",
       "50%        0.000000      0.000000      1.000000\n",
       "75%        0.000000     45.500000      1.000000\n",
       "max       90.000000     90.000000      1.000000"
      ]
     },
     "execution_count": 12,
     "metadata": {},
     "output_type": "execute_result"
    }
   ],
   "source": [
    "df2.Delta_Col = df2.Delta_Col.apply((lambda x: remap_colors(x)))\n",
    "df2.describe()"
   ]
  },
  {
   "cell_type": "markdown",
   "metadata": {},
   "source": [
    "## Experiment 3: Condition C vs. Condition D\n",
    "- Condition C: one relevant feature ('two_feature_data/Exp1_4/')\n",
    "- Condition D1: one relevant feature, one changing irrelevant feature ('two_feature_data/Exp3_one_change')\n",
    "- Condition D2: one relevant feature, all changing irrelevant feature ('two_feature_data/Exp3_all_change')"
   ]
  },
  {
   "cell_type": "code",
   "execution_count": 13,
   "metadata": {
    "collapsed": false
   },
   "outputs": [
    {
     "name": "stdout",
     "output_type": "stream",
     "text": [
      "set(['WK0', 'HS0', 'HJK', 'WZ0', 'LLT'])\n"
     ]
    }
   ],
   "source": [
    "pathnameD1 = 'one_change_lab/'\n",
    "pathnameCD2 = 'two_feature_data/Exp3_all_change/' # this contains both Conditions A and D\n",
    "subject_namesD1 = ['HJK','HS0','LLT','WK0','WZ0']\n",
    "subject_namesCD2 = ['HJK','HS0','JSK','LLT','LN0','MBC','WK0','WZ0']\n",
    "\n",
    "# there are only 3 subjects who did all experiments\n",
    "common_subjects = set(subject_namesD1) & set(subject_namesCD2)\n",
    "print common_subjects"
   ]
  },
  {
   "cell_type": "code",
   "execution_count": 14,
   "metadata": {
    "collapsed": true
   },
   "outputs": [],
   "source": [
    "exp_idsCD2 = [3,4,5,6] # 5: orientation + irrelevant color, 6: color + irrelevant orientation\n",
    "exp_idsD1 = [1,2] # 1: orientation, 2: color\n",
    "exp_codeCD2 = 3\n",
    "exp_codeD1 = 6"
   ]
  },
  {
   "cell_type": "code",
   "execution_count": 15,
   "metadata": {
    "collapsed": false
   },
   "outputs": [],
   "source": [
    "dfCD2 = concat_matfiles(exp_codeCD2,exp_idsCD2,pathnameCD2,common_subjects)\n",
    "dfD1 = concat_matfiles(exp_codeD1,exp_idsD1,pathnameD1,common_subjects,exp_num=1)\n",
    "df = pd.concat([dfCD2,dfD1],ignore_index=True)\n",
    "df3 = df[['Name','Feature',1,2,8]]\n",
    "df3.columns = ['Subject','Feature','Delta_Ori','Delta_Col','Correct']"
   ]
  },
  {
   "cell_type": "code",
   "execution_count": 16,
   "metadata": {
    "collapsed": false,
    "scrolled": false
   },
   "outputs": [
    {
     "data": {
      "text/html": [
       "<div>\n",
       "<table border=\"1\" class=\"dataframe\">\n",
       "  <thead>\n",
       "    <tr style=\"text-align: right;\">\n",
       "      <th></th>\n",
       "      <th>Delta_Ori</th>\n",
       "      <th>Delta_Col</th>\n",
       "      <th>Correct</th>\n",
       "    </tr>\n",
       "  </thead>\n",
       "  <tbody>\n",
       "    <tr>\n",
       "      <th>count</th>\n",
       "      <td>18000.000000</td>\n",
       "      <td>18000.000000</td>\n",
       "      <td>18000.000000</td>\n",
       "    </tr>\n",
       "    <tr>\n",
       "      <th>mean</th>\n",
       "      <td>-0.576351</td>\n",
       "      <td>30.277167</td>\n",
       "      <td>0.687500</td>\n",
       "    </tr>\n",
       "    <tr>\n",
       "      <th>std</th>\n",
       "      <td>42.391533</td>\n",
       "      <td>30.165285</td>\n",
       "      <td>0.463525</td>\n",
       "    </tr>\n",
       "    <tr>\n",
       "      <th>min</th>\n",
       "      <td>-90.000000</td>\n",
       "      <td>0.000000</td>\n",
       "      <td>0.000000</td>\n",
       "    </tr>\n",
       "    <tr>\n",
       "      <th>25%</th>\n",
       "      <td>-23.816156</td>\n",
       "      <td>0.000000</td>\n",
       "      <td>0.000000</td>\n",
       "    </tr>\n",
       "    <tr>\n",
       "      <th>50%</th>\n",
       "      <td>0.000000</td>\n",
       "      <td>23.000000</td>\n",
       "      <td>1.000000</td>\n",
       "    </tr>\n",
       "    <tr>\n",
       "      <th>75%</th>\n",
       "      <td>21.309192</td>\n",
       "      <td>57.000000</td>\n",
       "      <td>1.000000</td>\n",
       "    </tr>\n",
       "    <tr>\n",
       "      <th>max</th>\n",
       "      <td>90.000000</td>\n",
       "      <td>90.000000</td>\n",
       "      <td>1.000000</td>\n",
       "    </tr>\n",
       "  </tbody>\n",
       "</table>\n",
       "</div>"
      ],
      "text/plain": [
       "          Delta_Ori     Delta_Col       Correct\n",
       "count  18000.000000  18000.000000  18000.000000\n",
       "mean      -0.576351     30.277167      0.687500\n",
       "std       42.391533     30.165285      0.463525\n",
       "min      -90.000000      0.000000      0.000000\n",
       "25%      -23.816156      0.000000      0.000000\n",
       "50%        0.000000     23.000000      1.000000\n",
       "75%       21.309192     57.000000      1.000000\n",
       "max       90.000000     90.000000      1.000000"
      ]
     },
     "execution_count": 16,
     "metadata": {},
     "output_type": "execute_result"
    }
   ],
   "source": [
    "df3.Delta_Col = df3.Delta_Col.apply((lambda x: remap_colors(x)))\n",
    "df3.describe()"
   ]
  },
  {
   "cell_type": "markdown",
   "metadata": {},
   "source": [
    "# 2. Logistic regression: change magnitude vs. performance\n",
    "## 2.1 Experiment 1\n",
    "### Orientation: Condition B vs. Condition C"
   ]
  },
  {
   "cell_type": "code",
   "execution_count": 17,
   "metadata": {
    "collapsed": false
   },
   "outputs": [
    {
     "data": {
      "text/plain": [
       "array(['OriC', 'ColC', 'B'], dtype=object)"
      ]
     },
     "execution_count": 17,
     "metadata": {},
     "output_type": "execute_result"
    }
   ],
   "source": [
    "df1.Feature.unique()"
   ]
  },
  {
   "cell_type": "code",
   "execution_count": 18,
   "metadata": {
    "collapsed": true
   },
   "outputs": [],
   "source": [
    "gb = df1.groupby('Feature')\n",
    "df1_OriC = gb.get_group('OriC')\n",
    "df1_ColC = gb.get_group('ColC')\n",
    "df1_B = gb.get_group('B')"
   ]
  },
  {
   "cell_type": "code",
   "execution_count": 19,
   "metadata": {
    "collapsed": false
   },
   "outputs": [],
   "source": [
    "df1_OriB = df1_B[df1_B.Delta_Ori!=0]\n",
    "df1_ColB = df1_B[df1_B.Delta_Col!=0]"
   ]
  },
  {
   "cell_type": "code",
   "execution_count": 20,
   "metadata": {
    "collapsed": false,
    "scrolled": true
   },
   "outputs": [],
   "source": [
    "df1_OriB['FeatInd'] = 1\n",
    "df1_OriC['FeatInd'] = 0"
   ]
  },
  {
   "cell_type": "code",
   "execution_count": 21,
   "metadata": {
    "collapsed": true
   },
   "outputs": [],
   "source": [
    "df1_Ori = pd.concat([df1_OriB,df1_OriC],ignore_index=True)\n",
    "df1_Ori = df1_Ori[['Subject','Delta_Ori','FeatInd','Correct']]\n",
    "df1_Ori['AbsDeltaOri']=abs(df1_Ori.Delta_Ori)"
   ]
  },
  {
   "cell_type": "code",
   "execution_count": 22,
   "metadata": {
    "collapsed": false
   },
   "outputs": [
    {
     "data": {
      "text/html": [
       "<div>\n",
       "<table border=\"1\" class=\"dataframe\">\n",
       "  <thead>\n",
       "    <tr style=\"text-align: right;\">\n",
       "      <th></th>\n",
       "      <th>Delta_Ori</th>\n",
       "      <th>FeatInd</th>\n",
       "      <th>Correct</th>\n",
       "      <th>AbsDeltaOri</th>\n",
       "    </tr>\n",
       "  </thead>\n",
       "  <tbody>\n",
       "    <tr>\n",
       "      <th>count</th>\n",
       "      <td>10247.000000</td>\n",
       "      <td>10247.000000</td>\n",
       "      <td>10247.000000</td>\n",
       "      <td>10247.000000</td>\n",
       "    </tr>\n",
       "    <tr>\n",
       "      <th>mean</th>\n",
       "      <td>0.274477</td>\n",
       "      <td>0.531570</td>\n",
       "      <td>0.630916</td>\n",
       "      <td>44.805023</td>\n",
       "    </tr>\n",
       "    <tr>\n",
       "      <th>std</th>\n",
       "      <td>51.747574</td>\n",
       "      <td>0.499027</td>\n",
       "      <td>0.482580</td>\n",
       "      <td>25.888234</td>\n",
       "    </tr>\n",
       "    <tr>\n",
       "      <th>min</th>\n",
       "      <td>-90.000000</td>\n",
       "      <td>0.000000</td>\n",
       "      <td>0.000000</td>\n",
       "      <td>0.250696</td>\n",
       "    </tr>\n",
       "    <tr>\n",
       "      <th>25%</th>\n",
       "      <td>-43.871866</td>\n",
       "      <td>0.000000</td>\n",
       "      <td>0.000000</td>\n",
       "      <td>22.813370</td>\n",
       "    </tr>\n",
       "    <tr>\n",
       "      <th>50%</th>\n",
       "      <td>0.752089</td>\n",
       "      <td>1.000000</td>\n",
       "      <td>1.000000</td>\n",
       "      <td>43.871866</td>\n",
       "    </tr>\n",
       "    <tr>\n",
       "      <th>75%</th>\n",
       "      <td>43.871866</td>\n",
       "      <td>1.000000</td>\n",
       "      <td>1.000000</td>\n",
       "      <td>67.437326</td>\n",
       "    </tr>\n",
       "    <tr>\n",
       "      <th>max</th>\n",
       "      <td>90.000000</td>\n",
       "      <td>1.000000</td>\n",
       "      <td>1.000000</td>\n",
       "      <td>90.000000</td>\n",
       "    </tr>\n",
       "  </tbody>\n",
       "</table>\n",
       "</div>"
      ],
      "text/plain": [
       "          Delta_Ori       FeatInd       Correct   AbsDeltaOri\n",
       "count  10247.000000  10247.000000  10247.000000  10247.000000\n",
       "mean       0.274477      0.531570      0.630916     44.805023\n",
       "std       51.747574      0.499027      0.482580     25.888234\n",
       "min      -90.000000      0.000000      0.000000      0.250696\n",
       "25%      -43.871866      0.000000      0.000000     22.813370\n",
       "50%        0.752089      1.000000      1.000000     43.871866\n",
       "75%       43.871866      1.000000      1.000000     67.437326\n",
       "max       90.000000      1.000000      1.000000     90.000000"
      ]
     },
     "execution_count": 22,
     "metadata": {},
     "output_type": "execute_result"
    }
   ],
   "source": [
    "df1_Ori.describe()"
   ]
  },
  {
   "cell_type": "code",
   "execution_count": 71,
   "metadata": {
    "collapsed": true
   },
   "outputs": [],
   "source": [
    "def run_logistic_subject(df,columns):\n",
    "    params = []\n",
    "    pvalues = []    \n",
    "    gb = df.groupby('Subject')\n",
    "    for key in gb.groups.keys():\n",
    "        df_temp = gb.get_group(key)\n",
    "        df_temp['intercept'] = 1.0 # sm requires us to add a constant (intercept)\n",
    "        X = df_temp[columns].values\n",
    "        y = df_temp.Correct.values\n",
    "        result = sm.Logit(y, X).fit()\n",
    "        params.append(result.params)\n",
    "        pvalues.append(result.pvalues)\n",
    "    print np.round(params,3),\n",
    "    print np.round(pvalues,3),\n",
    "    return params, pvalues"
   ]
  },
  {
   "cell_type": "code",
   "execution_count": 24,
   "metadata": {
    "collapsed": false
   },
   "outputs": [
    {
     "name": "stdout",
     "output_type": "stream",
     "text": [
      "Optimization terminated successfully.\n",
      "         Current function value: 0.577747\n",
      "         Iterations 5\n",
      "Optimization terminated successfully.\n",
      "         Current function value: 0.464677\n",
      "         Iterations 6\n",
      "Optimization terminated successfully.\n",
      "         Current function value: 0.579357\n",
      "         Iterations 5\n",
      "Optimization terminated successfully.\n",
      "         Current function value: 0.655271\n",
      "         Iterations 5\n",
      "Optimization terminated successfully.\n",
      "         Current function value: 0.418628\n",
      "         Iterations 7\n",
      "Optimization terminated successfully.\n",
      "         Current function value: 0.503704\n",
      "         Iterations 6\n",
      "Optimization terminated successfully.\n",
      "         Current function value: 0.645422\n",
      "         Iterations 5\n",
      "Optimization terminated successfully.\n",
      "         Current function value: 0.632057\n",
      "         Iterations 5\n"
     ]
    }
   ],
   "source": [
    "params_E1_BC_Ori, pvalues_E1_BC_Ori = run_logistic_subject(df1_Ori,['AbsDeltaOri','FeatInd','intercept'])"
   ]
  },
  {
   "cell_type": "code",
   "execution_count": 63,
   "metadata": {
    "collapsed": false
   },
   "outputs": [
    {
     "data": {
      "text/plain": [
       "array([[ 0.03 , -0.218, -0.447],\n",
       "       [ 0.045, -0.204, -0.434],\n",
       "       [ 0.032, -0.198, -0.617],\n",
       "       [ 0.017, -0.116, -1.056],\n",
       "       [ 0.062,  0.32 , -1.231],\n",
       "       [ 0.045,  0.172, -1.073],\n",
       "       [ 0.024, -0.224, -0.932],\n",
       "       [ 0.026,  0.323, -1.02 ]])"
      ]
     },
     "execution_count": 63,
     "metadata": {},
     "output_type": "execute_result"
    }
   ],
   "source": [
    "np.round(params_E1_BC_Ori,3)"
   ]
  },
  {
   "cell_type": "code",
   "execution_count": 64,
   "metadata": {
    "collapsed": false
   },
   "outputs": [
    {
     "data": {
      "text/plain": [
       "array([[ 0.   ,  0.068,  0.001],\n",
       "       [ 0.   ,  0.134,  0.002],\n",
       "       [ 0.   ,  0.124,  0.   ],\n",
       "       [ 0.   ,  0.33 ,  0.   ],\n",
       "       [ 0.   ,  0.043,  0.   ],\n",
       "       [ 0.   ,  0.226,  0.   ],\n",
       "       [ 0.   ,  0.065,  0.   ],\n",
       "       [ 0.   ,  0.008,  0.   ]])"
      ]
     },
     "execution_count": 64,
     "metadata": {},
     "output_type": "execute_result"
    }
   ],
   "source": [
    "np.round(pvalues_E1_BC_Ori,3)"
   ]
  },
  {
   "cell_type": "markdown",
   "metadata": {},
   "source": [
    "### Color: Condition B vs. Condition C"
   ]
  },
  {
   "cell_type": "code",
   "execution_count": 25,
   "metadata": {
    "collapsed": false
   },
   "outputs": [],
   "source": [
    "df1_ColB['FeatInd'] = 1\n",
    "df1_ColC['FeatInd'] = 0\n",
    "df1_Col = pd.concat([df1_ColB,df1_ColC],ignore_index=True)\n",
    "df1_Col = df1_Col[['Subject','Delta_Col','FeatInd','Correct']]"
   ]
  },
  {
   "cell_type": "code",
   "execution_count": 27,
   "metadata": {
    "collapsed": false
   },
   "outputs": [
    {
     "data": {
      "text/html": [
       "<div>\n",
       "<table border=\"1\" class=\"dataframe\">\n",
       "  <thead>\n",
       "    <tr style=\"text-align: right;\">\n",
       "      <th></th>\n",
       "      <th>Delta_Col</th>\n",
       "      <th>FeatInd</th>\n",
       "      <th>Correct</th>\n",
       "    </tr>\n",
       "  </thead>\n",
       "  <tbody>\n",
       "    <tr>\n",
       "      <th>count</th>\n",
       "      <td>10145.000000</td>\n",
       "      <td>10145.000000</td>\n",
       "      <td>10145.000000</td>\n",
       "    </tr>\n",
       "    <tr>\n",
       "      <th>mean</th>\n",
       "      <td>44.636077</td>\n",
       "      <td>0.526861</td>\n",
       "      <td>0.682898</td>\n",
       "    </tr>\n",
       "    <tr>\n",
       "      <th>std</th>\n",
       "      <td>26.007802</td>\n",
       "      <td>0.499303</td>\n",
       "      <td>0.465370</td>\n",
       "    </tr>\n",
       "    <tr>\n",
       "      <th>min</th>\n",
       "      <td>0.000000</td>\n",
       "      <td>0.000000</td>\n",
       "      <td>0.000000</td>\n",
       "    </tr>\n",
       "    <tr>\n",
       "      <th>25%</th>\n",
       "      <td>22.000000</td>\n",
       "      <td>0.000000</td>\n",
       "      <td>0.000000</td>\n",
       "    </tr>\n",
       "    <tr>\n",
       "      <th>50%</th>\n",
       "      <td>44.500000</td>\n",
       "      <td>1.000000</td>\n",
       "      <td>1.000000</td>\n",
       "    </tr>\n",
       "    <tr>\n",
       "      <th>75%</th>\n",
       "      <td>67.000000</td>\n",
       "      <td>1.000000</td>\n",
       "      <td>1.000000</td>\n",
       "    </tr>\n",
       "    <tr>\n",
       "      <th>max</th>\n",
       "      <td>90.000000</td>\n",
       "      <td>1.000000</td>\n",
       "      <td>1.000000</td>\n",
       "    </tr>\n",
       "  </tbody>\n",
       "</table>\n",
       "</div>"
      ],
      "text/plain": [
       "          Delta_Col       FeatInd       Correct\n",
       "count  10145.000000  10145.000000  10145.000000\n",
       "mean      44.636077      0.526861      0.682898\n",
       "std       26.007802      0.499303      0.465370\n",
       "min        0.000000      0.000000      0.000000\n",
       "25%       22.000000      0.000000      0.000000\n",
       "50%       44.500000      1.000000      1.000000\n",
       "75%       67.000000      1.000000      1.000000\n",
       "max       90.000000      1.000000      1.000000"
      ]
     },
     "execution_count": 27,
     "metadata": {},
     "output_type": "execute_result"
    }
   ],
   "source": [
    "df1_Col.describe()"
   ]
  },
  {
   "cell_type": "code",
   "execution_count": 50,
   "metadata": {
    "collapsed": false
   },
   "outputs": [
    {
     "name": "stdout",
     "output_type": "stream",
     "text": [
      "Optimization terminated successfully.\n",
      "         Current function value: 0.599791\n",
      "         Iterations 5\n",
      "Optimization terminated successfully.\n",
      "         Current function value: 0.472496\n",
      "         Iterations 6\n",
      "Optimization terminated successfully.\n",
      "         Current function value: 0.624829\n",
      "         Iterations 5\n",
      "Optimization terminated successfully.\n",
      "         Current function value: 0.667194\n",
      "         Iterations 4\n",
      "Optimization terminated successfully.\n",
      "         Current function value: 0.429589\n",
      "         Iterations 7\n",
      "Optimization terminated successfully.\n",
      "         Current function value: 0.454385\n",
      "         Iterations 6\n",
      "Optimization terminated successfully.\n",
      "         Current function value: 0.471283\n",
      "         Iterations 6\n",
      "Optimization terminated successfully.\n",
      "         Current function value: 0.598117\n",
      "         Iterations 5\n"
     ]
    }
   ],
   "source": [
    "params_E1_BC_Col, pvalues_E1_BC_Col = run_logistic_subject(df1_Col,['Delta_Col','FeatInd','intercept'])"
   ]
  },
  {
   "cell_type": "code",
   "execution_count": 62,
   "metadata": {
    "collapsed": false
   },
   "outputs": [
    {
     "name": "stdout",
     "output_type": "stream",
     "text": [
      "[[ 0.024 -0.295 -0.196]\n",
      " [ 0.034 -0.352  0.154]\n",
      " [ 0.024 -0.118 -0.528]\n",
      " [ 0.016  0.162 -0.633]\n",
      " [ 0.051 -0.139 -0.509]\n",
      " [ 0.05   0.075 -0.871]\n",
      " [ 0.05  -0.483 -0.708]\n",
      " [ 0.03   0.124 -0.843]]\n"
     ]
    }
   ],
   "source": [
    "print np.round(params_E1_BC_Col,3),"
   ]
  },
  {
   "cell_type": "code",
   "execution_count": 61,
   "metadata": {
    "collapsed": false,
    "scrolled": true
   },
   "outputs": [
    {
     "name": "stdout",
     "output_type": "stream",
     "text": [
      "[[ 0.     0.012  0.129]\n",
      " [ 0.     0.01   0.283]\n",
      " [ 0.     0.347  0.   ]\n",
      " [ 0.     0.176  0.   ]\n",
      " [ 0.     0.367  0.001]\n",
      " [ 0.     0.618  0.   ]\n",
      " [ 0.     0.001  0.   ]\n",
      " [ 0.     0.334  0.   ]]\n"
     ]
    }
   ],
   "source": [
    "print np.round(pvalues_E1_BC_Col,3),"
   ]
  },
  {
   "cell_type": "markdown",
   "metadata": {},
   "source": [
    "### *N*=8\n",
    "**Orientation**"
   ]
  },
  {
   "cell_type": "code",
   "execution_count": 66,
   "metadata": {
    "collapsed": true
   },
   "outputs": [],
   "source": [
    "gb = df1_8.groupby('Feature')\n",
    "df1_OriC = gb.get_group('OriC')\n",
    "df1_ColC = gb.get_group('ColC')\n",
    "df1_B = gb.get_group('B')\n",
    "\n",
    "df1_OriB = df1_B[df1_B.Delta_Ori!=0]\n",
    "df1_ColB = df1_B[df1_B.Delta_Col!=0]\n",
    "\n",
    "df1_OriB['FeatInd'] = 1\n",
    "df1_OriC['FeatInd'] = 0\n",
    "\n",
    "df1_Ori = pd.concat([df1_OriB,df1_OriC],ignore_index=True)\n",
    "df1_Ori = df1_Ori[['Subject','Delta_Ori','FeatInd','Correct']]\n",
    "df1_Ori['AbsDeltaOri']=abs(df1_Ori.Delta_Ori)"
   ]
  },
  {
   "cell_type": "code",
   "execution_count": 68,
   "metadata": {
    "collapsed": true
   },
   "outputs": [],
   "source": [
    "df1_ColB['FeatInd'] = 1\n",
    "df1_ColC['FeatInd'] = 0\n",
    "df1_Col = pd.concat([df1_ColB,df1_ColC],ignore_index=True)\n",
    "df1_Col = df1_Col[['Subject','Delta_Col','FeatInd','Correct']]"
   ]
  },
  {
   "cell_type": "code",
   "execution_count": 69,
   "metadata": {
    "collapsed": false,
    "scrolled": false
   },
   "outputs": [
    {
     "name": "stdout",
     "output_type": "stream",
     "text": [
      "         Delta_Ori      FeatInd      Correct  AbsDeltaOri\n",
      "count  9660.000000  9660.000000  9660.000000  9660.000000\n",
      "mean     -0.713576     0.503106     0.321429    45.080918\n",
      "std      52.036682     0.500016     0.467049    25.996652\n",
      "min     -90.000000     0.000000     0.000000     0.250696\n",
      "25%     -45.877437     0.000000     0.000000    22.813370\n",
      "50%      -0.250696     1.000000     0.000000    44.874652\n",
      "75%      44.373259     1.000000     1.000000    67.938719\n",
      "max      90.000000     1.000000     1.000000    90.000000\n",
      "         Delta_Col      FeatInd      Correct\n",
      "count  9526.000000  9526.000000  9526.000000\n",
      "mean     44.831461     0.496116     0.381902\n",
      "std      25.902210     0.500011     0.485878\n",
      "min       0.000000     0.000000     0.000000\n",
      "25%      22.500000     0.000000     0.000000\n",
      "50%      44.500000     0.000000     0.000000\n",
      "75%      67.000000     1.000000     1.000000\n",
      "max      90.000000     1.000000     1.000000\n"
     ]
    }
   ],
   "source": [
    "print df1_Ori.describe()\n",
    "print df1_Col.describe()"
   ]
  },
  {
   "cell_type": "code",
   "execution_count": 72,
   "metadata": {
    "collapsed": false
   },
   "outputs": [
    {
     "name": "stdout",
     "output_type": "stream",
     "text": [
      "Optimization terminated successfully.\n",
      "         Current function value: 0.542045\n",
      "         Iterations 6\n",
      "Optimization terminated successfully.\n",
      "         Current function value: 0.567244\n",
      "         Iterations 5\n",
      "Optimization terminated successfully.\n",
      "         Current function value: 0.618086\n",
      "         Iterations 5\n",
      "Optimization terminated successfully.\n",
      "         Current function value: 0.571320\n",
      "         Iterations 5\n",
      "Optimization terminated successfully.\n",
      "         Current function value: 0.610415\n",
      "         Iterations 5\n",
      "Optimization terminated successfully.\n",
      "         Current function value: 0.609984\n",
      "         Iterations 5\n",
      "Optimization terminated successfully.\n",
      "         Current function value: 0.585275\n",
      "         Iterations 5\n",
      "Optimization terminated successfully.\n",
      "         Current function value: 0.544139\n",
      "         Iterations 6\n",
      "[[ 0.02  -0.207 -1.925]\n",
      " [ 0.022 -0.063 -1.947]\n",
      " [ 0.03   0.102 -1.783]\n",
      " [ 0.011 -0.207 -1.434]\n",
      " [ 0.031 -0.136 -1.709]\n",
      " [ 0.023 -0.5   -1.45 ]\n",
      " [ 0.021 -0.279 -1.68 ]\n",
      " [ 0.021 -0.418 -1.843]] [[ 0.     0.129  0.   ]\n",
      " [ 0.     0.637  0.   ]\n",
      " [ 0.     0.41   0.   ]\n",
      " [ 0.     0.116  0.   ]\n",
      " [ 0.     0.277  0.   ]\n",
      " [ 0.     0.     0.   ]\n",
      " [ 0.     0.031  0.   ]\n",
      " [ 0.     0.002  0.   ]]Optimization terminated successfully.\n",
      "         Current function value: 0.587427\n",
      "         Iterations 5\n",
      "Optimization terminated successfully.\n",
      "         Current function value: 0.642228\n",
      "         Iterations 5\n",
      "Optimization terminated successfully.\n",
      "         Current function value: 0.637642\n",
      "         Iterations 5\n",
      "Optimization terminated successfully.\n",
      "         Current function value: 0.619113\n",
      "         Iterations 5\n",
      "Optimization terminated successfully.\n",
      "         Current function value: 0.647343\n",
      "         Iterations 5\n",
      "Optimization terminated successfully.\n",
      "         Current function value: 0.635451\n",
      "         Iterations 5\n",
      "Optimization terminated successfully.\n",
      "         Current function value: 0.591322\n",
      "         Iterations 5\n",
      "Optimization terminated successfully.\n",
      "         Current function value: 0.631339\n",
      "         Iterations 5\n",
      " [[ 0.01   0.094 -1.463]\n",
      " [ 0.025  0.128 -1.415]\n",
      " [ 0.022 -0.06  -1.368]\n",
      " [ 0.016 -0.121 -1.37 ]\n",
      " [ 0.023 -0.102 -1.191]\n",
      " [ 0.027 -0.322 -1.101]\n",
      " [ 0.015 -0.427 -1.333]\n",
      " [ 0.013  0.004 -1.259]] [[ 0.     0.468  0.   ]\n",
      " [ 0.     0.289  0.   ]\n",
      " [ 0.     0.625  0.   ]\n",
      " [ 0.     0.333  0.   ]\n",
      " [ 0.     0.406  0.   ]\n",
      " [ 0.     0.009  0.   ]\n",
      " [ 0.     0.001  0.   ]\n",
      " [ 0.     0.977  0.   ]]\n"
     ]
    }
   ],
   "source": [
    "params_E1_BC_8_Ori, pvalues_E1_BC_8_Ori = run_logistic_subject(df1_Ori,['AbsDeltaOri','FeatInd','intercept'])\n",
    "params_E1_BC_8_Col, pvalues_E1_BC_8_Col = run_logistic_subject(df1_Col,['Delta_Col','FeatInd','intercept'])"
   ]
  },
  {
   "cell_type": "markdown",
   "metadata": {},
   "source": [
    "## 2.2 Experiment 2\n",
    "### Condition A vs. Condition C"
   ]
  },
  {
   "cell_type": "code",
   "execution_count": 75,
   "metadata": {
    "collapsed": false
   },
   "outputs": [
    {
     "data": {
      "text/plain": [
       "array(['OriA', 'ColA', 'OriC', 'ColC'], dtype=object)"
      ]
     },
     "execution_count": 75,
     "metadata": {},
     "output_type": "execute_result"
    }
   ],
   "source": [
    "df2.Feature.unique()"
   ]
  },
  {
   "cell_type": "code",
   "execution_count": 104,
   "metadata": {
    "collapsed": false
   },
   "outputs": [],
   "source": [
    "df2_Ori_ = df2.loc[df2['Feature'].isin(['OriA','OriC'])]\n",
    "df2_Ori_['AbsDeltaOri']=abs(df2_Ori_.Delta_Ori)\n",
    "df2_Col_ = df2.loc[df2['Feature'].isin(['ColA','ColC'])]\n",
    "\n",
    "dummy_Ori = pd.get_dummies(df2_Ori_['Feature'])\n",
    "dummy_Col = pd.get_dummies(df2_Col_['Feature'])\n",
    "cols_to_keep_Ori = ['Correct','Subject','AbsDeltaOri']\n",
    "cols_to_keep_Col = ['Correct','Subject','Delta_Col']"
   ]
  },
  {
   "cell_type": "code",
   "execution_count": 105,
   "metadata": {
    "collapsed": false
   },
   "outputs": [],
   "source": [
    "df2_Ori = df2_Ori_[cols_to_keep_Ori].join(dummy_Ori.ix[:, 'OriC'])\n",
    "df2_Col = df2_Col_[cols_to_keep_Col].join(dummy_Col.ix[:, 'ColC'])"
   ]
  },
  {
   "cell_type": "code",
   "execution_count": 109,
   "metadata": {
    "collapsed": false
   },
   "outputs": [
    {
     "name": "stdout",
     "output_type": "stream",
     "text": [
      "Optimization terminated successfully.\n",
      "         Current function value: 0.566461\n",
      "         Iterations 5\n",
      "Optimization terminated successfully.\n",
      "         Current function value: 0.597476\n",
      "         Iterations 5\n",
      "Optimization terminated successfully.\n",
      "         Current function value: 0.480527\n",
      "         Iterations 6\n",
      "Optimization terminated successfully.\n",
      "         Current function value: 0.605721\n",
      "         Iterations 5\n",
      "Optimization terminated successfully.\n",
      "         Current function value: 0.616058\n",
      "         Iterations 5\n",
      "Optimization terminated successfully.\n",
      "         Current function value: 0.435297\n",
      "         Iterations 7\n",
      "Optimization terminated successfully.\n",
      "         Current function value: 0.448866\n",
      "         Iterations 6\n",
      "Optimization terminated successfully.\n",
      "         Current function value: 0.640860\n",
      "         Iterations 5\n",
      "[[ 0.033 -0.452 -0.497]\n",
      " [ 0.031  0.13  -0.915]\n",
      " [ 0.052  0.265 -1.278]\n",
      " [ 0.03   0.163 -0.993]\n",
      " [ 0.032  0.248 -1.342]\n",
      " [ 0.052 -0.013 -0.771]\n",
      " [ 0.055  0.07  -1.089]\n",
      " [ 0.024 -0.215 -0.753]] [[ 0.     0.001  0.001]\n",
      " [ 0.     0.308  0.   ]\n",
      " [ 0.     0.07   0.   ]\n",
      " [ 0.     0.196  0.   ]\n",
      " [ 0.     0.047  0.   ]\n",
      " [ 0.     0.932  0.   ]\n",
      " [ 0.     0.641  0.   ]\n",
      " [ 0.     0.077  0.   ]]Optimization terminated successfully.\n",
      "         Current function value: 0.634637\n",
      "         Iterations 5\n",
      "Optimization terminated successfully.\n",
      "         Current function value: 0.569796\n",
      "         Iterations 5\n",
      "Optimization terminated successfully.\n",
      "         Current function value: 0.496989\n",
      "         Iterations 6\n",
      "Optimization terminated successfully.\n",
      "         Current function value: 0.427312\n",
      "         Iterations 7\n",
      "Optimization terminated successfully.\n",
      "         Current function value: 0.647067\n",
      "         Iterations 5\n",
      "Optimization terminated successfully.\n",
      "         Current function value: 0.496737\n",
      "         Iterations 6\n",
      "Optimization terminated successfully.\n",
      "         Current function value: 0.412008\n",
      "         Iterations 7\n",
      "Optimization terminated successfully.\n",
      "         Current function value: 0.541973\n",
      "         Iterations 6\n",
      " [[ 0.022  0.347 -0.741]\n",
      " [ 0.027  0.016 -0.362]\n",
      " [ 0.043 -0.231 -0.638]\n",
      " [ 0.055 -0.2   -0.757]\n",
      " [ 0.021 -0.342 -0.508]\n",
      " [ 0.036 -0.094 -0.264]\n",
      " [ 0.054 -0.1   -0.608]\n",
      " [ 0.041  0.427 -1.264]] [[ 0.     0.005  0.   ]\n",
      " [ 0.     0.905  0.01 ]\n",
      " [ 0.     0.105  0.   ]\n",
      " [ 0.     0.197  0.   ]\n",
      " [ 0.     0.005  0.   ]\n",
      " [ 0.     0.511  0.073]\n",
      " [ 0.     0.528  0.   ]\n",
      " [ 0.     0.002  0.   ]]\n"
     ]
    }
   ],
   "source": [
    "params_E2_AC_Ori, pvalues_E2_AC_Ori = run_logistic_subject(df2_Ori,['AbsDeltaOri','OriC','intercept'])\n",
    "params_E2_AC_Col, pvalues_E2_AC_Col = run_logistic_subject(df2_Col,['Delta_Col','ColC','intercept'])"
   ]
  },
  {
   "cell_type": "markdown",
   "metadata": {},
   "source": [
    "## 2.3 Experiment 3"
   ]
  },
  {
   "cell_type": "code",
   "execution_count": 110,
   "metadata": {
    "collapsed": false
   },
   "outputs": [
    {
     "data": {
      "text/plain": [
       "array(['OriC', 'ColC', 'OriD2', 'ColD2', 'OriA', 'ColA'], dtype=object)"
      ]
     },
     "execution_count": 110,
     "metadata": {},
     "output_type": "execute_result"
    }
   ],
   "source": [
    "df3.Feature.unique()"
   ]
  },
  {
   "cell_type": "code",
   "execution_count": 111,
   "metadata": {
    "collapsed": true
   },
   "outputs": [],
   "source": [
    "df3_Ori_ = df3.loc[df3['Feature'].isin(['OriA','OriC','OriD2'])]\n",
    "df3_Ori_['AbsDeltaOri']=abs(df3_Ori_.Delta_Ori)\n",
    "df3_Col_ = df3.loc[df3['Feature'].isin(['ColA','ColC','ColD2'])]\n",
    "\n",
    "dummy_Ori = pd.get_dummies(df3_Ori_['Feature'])\n",
    "dummy_Col = pd.get_dummies(df3_Col_['Feature'])\n",
    "cols_to_keep_Ori = ['Correct','Subject','AbsDeltaOri']\n",
    "cols_to_keep_Col = ['Correct','Subject','Delta_Col']"
   ]
  },
  {
   "cell_type": "code",
   "execution_count": 114,
   "metadata": {
    "collapsed": false
   },
   "outputs": [],
   "source": [
    "df3_Ori = df3_Ori_[cols_to_keep_Ori].join(dummy_Ori.ix[:, 'OriC':])\n",
    "df3_Col = df3_Col_[cols_to_keep_Col].join(dummy_Col.ix[:, 'ColC':])"
   ]
  },
  {
   "cell_type": "code",
   "execution_count": 117,
   "metadata": {
    "collapsed": false
   },
   "outputs": [
    {
     "name": "stdout",
     "output_type": "stream",
     "text": [
      "Optimization terminated successfully.\n",
      "         Current function value: 0.403715\n",
      "         Iterations 7\n",
      "Optimization terminated successfully.\n",
      "         Current function value: 0.479716\n",
      "         Iterations 6\n",
      "Optimization terminated successfully.\n",
      "         Current function value: 0.599215\n",
      "         Iterations 5\n",
      "Optimization terminated successfully.\n",
      "         Current function value: 0.537884\n",
      "         Iterations 6\n",
      "Optimization terminated successfully.\n",
      "         Current function value: 0.599476\n",
      "         Iterations 5\n",
      "[[ 0.064 -0.155 -0.081 -1.052]\n",
      " [ 0.051  0.16   0.283 -1.306]\n",
      " [ 0.034  0.078  0.093 -1.162]\n",
      " [ 0.041 -0.455 -0.242 -0.78 ]\n",
      " [ 0.032  0.043  0.115 -1.043]] [[ 0.     0.335  0.613  0.   ]\n",
      " [ 0.     0.269  0.051  0.   ]\n",
      " [ 0.     0.538  0.465  0.   ]\n",
      " [ 0.     0.001  0.079  0.   ]\n",
      " [ 0.     0.737  0.366  0.   ]]Optimization terminated successfully.\n",
      "         Current function value: 0.368496\n",
      "         Iterations 7\n",
      "Optimization terminated successfully.\n",
      "         Current function value: 0.536719\n",
      "         Iterations 6\n",
      "Optimization terminated successfully.\n",
      "         Current function value: 0.631751\n",
      "         Iterations 5\n",
      "Optimization terminated successfully.\n",
      "         Current function value: 0.531000\n",
      "         Iterations 6\n",
      "Optimization terminated successfully.\n",
      "         Current function value: 0.434610\n",
      "         Iterations 6\n",
      " [[ 0.062 -0.256 -0.239 -0.528]\n",
      " [ 0.034  0.502  0.274 -0.807]\n",
      " [ 0.024 -0.051  0.109 -0.707]\n",
      " [ 0.036  0.046 -0.162 -0.546]\n",
      " [ 0.048 -0.263 -0.189 -0.438]] [[ 0.     0.136  0.156  0.001]\n",
      " [ 0.     0.     0.042  0.   ]\n",
      " [ 0.     0.676  0.375  0.   ]\n",
      " [ 0.     0.74   0.233  0.   ]\n",
      " [ 0.     0.09   0.221  0.002]]\n"
     ]
    }
   ],
   "source": [
    "params_E3_ACD2_Ori, pvalues_E3_ACD2_Ori = run_logistic_subject(df3_Ori,['AbsDeltaOri','OriC','OriD2','intercept'])\n",
    "params_E3_ACD2_Col, pvalues_E3_ACD2_Col = run_logistic_subject(df3_Col,['Delta_Col','ColC','ColD2','intercept'])"
   ]
  },
  {
   "cell_type": "markdown",
   "metadata": {},
   "source": [
    "## 2.4 P value correction"
   ]
  },
  {
   "cell_type": "code",
   "execution_count": 163,
   "metadata": {
    "collapsed": false
   },
   "outputs": [
    {
     "data": {
      "text/plain": [
       "[8.3045215631134341e-37,\n",
       " 9.905669608419911e-48,\n",
       " 1.0693287111351104e-32,\n",
       " 1.2134223789835685e-13,\n",
       " 2.1421235874337353e-47,\n",
       " 5.5002371789094958e-44,\n",
       " 3.7922340942882558e-24,\n",
       " 2.4242307253959326e-25]"
      ]
     },
     "execution_count": 163,
     "metadata": {},
     "output_type": "execute_result"
    }
   ],
   "source": [
    "pd.DataFrame(pvalues_E1_BC_Ori)[0].tolist()"
   ]
  },
  {
   "cell_type": "code",
   "execution_count": 181,
   "metadata": {
    "collapsed": false
   },
   "outputs": [],
   "source": [
    "import statsmodels\n",
    "from __future__ import division\n",
    "def adjusted_p(pval_array,num_cols,method):\n",
    "    # `bonferroni` : one-step correction\n",
    "    # `holm` : step-down method using Bonferroni adjustments\n",
    "    df_pval = pd.DataFrame(pval_array)\n",
    "    for num_col in num_cols:\n",
    "        results = statsmodels.sandbox.stats.multicomp.multipletests(df_pval[num_col].tolist(), method = method)\n",
    "        print results[0], 100-np.round(sum(results[0]/len(results[0]))*100,2), '%'\n",
    "        print np.round(results[1],3)"
   ]
  },
  {
   "cell_type": "markdown",
   "metadata": {},
   "source": [
    "### Experiment 1"
   ]
  },
  {
   "cell_type": "code",
   "execution_count": 182,
   "metadata": {
    "collapsed": false
   },
   "outputs": [
    {
     "name": "stdout",
     "output_type": "stream",
     "text": [
      "[ True  True  True  True  True  True  True  True] 0.0 %\n",
      "[ 0.  0.  0.  0.  0.  0.  0.  0.]\n",
      "[False False False False False False False False] 100.0 %\n",
      "[ 0.387  0.496  0.496  0.496  0.3    0.496  0.387  0.067]\n",
      "[ True  True  True  True  True  True  True  True] 0.0 %\n",
      "[ 0.  0.  0.  0.  0.  0.  0.  0.]\n",
      "[False False False False False False  True False] 87.5 %\n",
      "[ 0.072  0.072  1.     0.879  1.     1.     0.009  1.   ]\n",
      "[ True  True  True  True  True  True  True  True] 0.0 %\n",
      "[ 0.  0.  0.  0.  0.  0.  0.  0.]\n",
      "[False False False False False  True False  True] 75.0 %\n",
      "[ 0.579  0.832  0.832  0.579  0.832  0.001  0.184  0.013]\n",
      "[ True  True  True  True  True  True  True  True] 0.0 %\n",
      "[ 0.  0.  0.  0.  0.  0.  0.  0.]\n",
      "[False False False False False False  True False] 87.5 %\n",
      "[ 1.     1.     1.     1.     1.     0.063  0.008  1.   ]\n"
     ]
    }
   ],
   "source": [
    "adjusted_p(pvalues_E1_BC_Ori,[0,1],'holm')\n",
    "adjusted_p(pvalues_E1_BC_Col,[0,1],'holm')\n",
    "adjusted_p(pvalues_E1_BC_8_Ori,[0,1],'holm')\n",
    "adjusted_p(pvalues_E1_BC_8_Col,[0,1],'holm')"
   ]
  },
  {
   "cell_type": "markdown",
   "metadata": {},
   "source": [
    "### Experiment 2"
   ]
  },
  {
   "cell_type": "code",
   "execution_count": null,
   "metadata": {
    "collapsed": true
   },
   "outputs": [],
   "source": [
    "adjusted_p(pvalues_E2_AC_Ori,[0,1],'holm')\n",
    "adjusted_p(pvalues_E1_AC_Col,[0,1],'holm')\n",
    "adjusted_p(pvalues_E1_BC_8_Ori,[0,1],'holm')\n",
    "adjusted_p(pvalues_E1_BC_8_Col,[0,1],'holm')"
   ]
  },
  {
   "cell_type": "markdown",
   "metadata": {},
   "source": [
    "# 3. Mturk summary\n",
    "CSD vs. features for relevant and irrelvant features. Values are from the manuscript."
   ]
  },
  {
   "cell_type": "code",
   "execution_count": 154,
   "metadata": {
    "collapsed": false
   },
   "outputs": [
    {
     "data": {
      "image/png": "[encoded data removed]",
      "text/plain": [
       "<matplotlib.figure.Figure at 0x10ec30850>"
      ]
     },
     "metadata": {},
     "output_type": "display_data"
    }
   ],
   "source": [
    "ind = np.arange(2)+0.5  # the x locations for the groups\n",
    "width = 0.35       # the width of the bars\n",
    "\n",
    "rel_csd = (13.7,23.3)\n",
    "irr_csd = (70.6,51.6)\n",
    "\n",
    "fig, ax = plt.subplots()\n",
    "rects1 = ax.bar(ind, rel_csd, width, color='black')\n",
    "rects2 = ax.bar(ind + width, irr_csd, width, color='gray')\n",
    "\n",
    "# add some text for labels, title and axes ticks\n",
    "ax.set_ylabel('Circular SD')\n",
    "ax.set_xticks(ind + width)\n",
    "ax.set_xticklabels(('Orientation', 'Color'))\n",
    "\n",
    "ax.legend((rects1[0], rects2[0]), ('Relevant', 'Irrelevant'))\n",
    "ax.set_xlim([0.25, 2.4]);"
   ]
  },
  {
   "cell_type": "code",
   "execution_count": null,
   "metadata": {
    "collapsed": true
   },
   "outputs": [],
   "source": []
  }
 ],
 "metadata": {
  "kernelspec": {
   "display_name": "Python 2",
   "language": "python",
   "name": "python2"
  },
  "language_info": {
   "codemirror_mode": {
    "name": "ipython",
    "version": 2
   },
   "file_extension": ".py",
   "mimetype": "text/x-python",
   "name": "python",
   "nbconvert_exporter": "python",
   "pygments_lexer": "ipython2",
   "version": "2.7.11"
  }
 },
 "nbformat": 4,
 "nbformat_minor": 0
}
