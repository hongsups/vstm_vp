{
 "cells": [
  {
   "cell_type": "code",
   "execution_count": 1,
   "metadata": {
    "collapsed": false
   },
   "outputs": [],
   "source": [
    "\"\"\"\n",
    "    Objective 1: Lab data\n",
    "        - Plot the data\n",
    "        - Check average performance (binnned) increases w/ delta -> RM-ANOVA\n",
    "        - Both for orientation and color\n",
    "    Objective 2: mturk data\n",
    "        - Bootstrap samples to compute standard error\n",
    "        - relevant data: check average performance (binned) increases w/ delta -> RM-ANOVA\n",
    "        - Irrelevant data: check average performance (binned) is \n",
    "            significantly different from chance -> one-sided t-test\n",
    "    Objective 3: Lab vs. mturk data (relevant)\n",
    "        - Check mturk data is significanlty worse than lab data -> two-sided t-test\n",
    "\"\"\"\n",
    "import fnmatch # file name matching\n",
    "import os\n",
    "from scipy.io import loadmat\n",
    "\n",
    "from pandas import DataFrame, Series\n",
    "import pandas as pd\n",
    "import scipy as sp\n",
    "import numpy as np\n",
    "\n",
    "import matplotlib.pyplot as plt\n",
    "%matplotlib inline\n",
    "import matplotlib\n",
    "\n",
    "# Change font setting\n",
    "font = {'family' : 'Arial',\n",
    "        'weight' : 'bold',\n",
    "        'size'   : 20}\n",
    "matplotlib.rc('font', **font)"
   ]
  },
  {
   "cell_type": "markdown",
   "metadata": {},
   "source": [
    "#1. Laboratory experiment\n",
    "## Change localization w/ one orientation change and one color change (N = 5)\n",
    "##1.1 Load files"
   ]
  },
  {
   "cell_type": "code",
   "execution_count": 2,
   "metadata": {
    "collapsed": false,
    "scrolled": true
   },
   "outputs": [],
   "source": [
    "\"\"\" Define path name and subject names \"\"\"\n",
    "pathname = 'one_change_lab/'\n",
    "file_names = os.listdir(pathname)\n",
    "subject_names = ['HJK','HS0','LLT','WK0','WZ0']"
   ]
  },
  {
   "cell_type": "code",
   "execution_count": 3,
   "metadata": {
    "collapsed": false,
    "scrolled": true
   },
   "outputs": [],
   "source": [
    "\"\"\" Create a DataFrame for all subject data \"\"\"\n",
    "index = 1\n",
    "# Loop over subjects (subject_names)\n",
    "df = DataFrame()\n",
    "for index in [1,2]:\n",
    "    temp2 = DataFrame()\n",
    "    for subject_name in subject_names:\n",
    "        # Create a tag to find files based on a subject name\n",
    "        subject_tag = subject_name + '6_6_' + str(index)\n",
    "        # Filter the files\n",
    "        subject_files = fnmatch.filter(file_names, subject_tag + '*.mat')\n",
    "        # Loop over filtered files\n",
    "        temp1 = DataFrame()\n",
    "        for subject_file in subject_files:\n",
    "            # Convert a MATLAB matrix to a DataFrame\n",
    "            temp0 = DataFrame(loadmat(pathname+subject_file)['datamatrix'])\n",
    "            # Concatenate DataFrames\n",
    "            temp1 = pd.concat([temp1,temp0],ignore_index=True)\n",
    "        # Create a column to assign subject names\n",
    "        temp1['Name'] = DataFrame([subject_name]*len(temp1))\n",
    "        # Concatenate\n",
    "        temp2 = pd.concat([temp2,temp1],ignore_index=True)\n",
    "        # Create a column to assign experiment index\n",
    "        if index == 1:\n",
    "            temp2['Feature'] = DataFrame(['Ori']*len(temp2))\n",
    "        elif index == 2:\n",
    "            temp2['Feature'] = DataFrame(['Col']*len(temp2))\n",
    "    # Concatenate all subject data to create a single DataFrame            \n",
    "    df = pd.concat([df,temp2],ignore_index=True)"
   ]
  },
  {
   "cell_type": "markdown",
   "metadata": {},
   "source": [
    "### <font color='red'>Orientation: delta = column 1, Color: delta = column 2"
   ]
  },
  {
   "cell_type": "code",
   "execution_count": 4,
   "metadata": {
    "collapsed": false
   },
   "outputs": [
    {
     "name": "stdout",
     "output_type": "stream",
     "text": [
      "     Name Feature          1  8\n",
      "2995  WZ0     Ori -62.423398  1\n",
      "2996  WZ0     Ori  65.431755  1\n",
      "2997  WZ0     Ori   2.256267  0\n",
      "2998  WZ0     Ori -48.885794  1\n",
      "2999  WZ0     Ori -80.473538  0\n",
      "     Name Feature    2  8\n",
      "3000  HJK     Col   78  1\n",
      "3001  HJK     Col  314  0\n",
      "3002  HJK     Col  199  0\n",
      "3003  HJK     Col  101  1\n",
      "3004  HJK     Col   66  1\n"
     ]
    }
   ],
   "source": [
    "df_temp = df[['Name','Feature',1,2,8]]\n",
    "df_ori = df_temp.loc[:len(df_temp)/2-1,['Name','Feature',1,8]]\n",
    "df_col = df_temp.loc[len(df_temp)/2:,['Name','Feature',2,8]]\n",
    "print df_ori.tail()\n",
    "print df_col.head()"
   ]
  },
  {
   "cell_type": "code",
   "execution_count": 5,
   "metadata": {
    "collapsed": true
   },
   "outputs": [],
   "source": [
    "# Assign column names\n",
    "df_ori.columns = ['Subject', 'Feature','Delta','Correct']\n",
    "df_col.columns = ['Subject', 'Feature','Delta','Correct']"
   ]
  },
  {
   "cell_type": "markdown",
   "metadata": {},
   "source": [
    "##1.2 Remap the delta for color data"
   ]
  },
  {
   "cell_type": "code",
   "execution_count": 6,
   "metadata": {
    "collapsed": false
   },
   "outputs": [],
   "source": [
    "\"\"\"\n",
    "    Remapping color change magnitude\n",
    "    Original range: range(1,361)\n",
    "    Remap:\n",
    "        1, ... 180: delta\n",
    "        181, ..., 360: 360 - delta\n",
    "    df['c'+str(i+1)] = df['C'+str(i+1)].apply((lambda x: hextorgb(x)))\n",
    "\n",
    "\"\"\"\n",
    "def remap_colors(old_delta):\n",
    "    if old_delta <= 180:\n",
    "        new_delta = old_delta\n",
    "    else:\n",
    "        new_delta = 360 - old_delta\n",
    "    if new_delta == 0:\n",
    "        new_delta = 0.0001\n",
    "    else:\n",
    "        new_delta = new_delta/2.0\n",
    "    return new_delta\n",
    "# remap\n",
    "df_col.Delta = df_col.loc[:,'Delta'].apply((lambda x: remap_colors(x)))"
   ]
  },
  {
   "cell_type": "code",
   "execution_count": 7,
   "metadata": {
    "collapsed": false,
    "scrolled": true
   },
   "outputs": [
    {
     "data": {
      "text/html": [
       "<div>\n",
       "<table border=\"1\" class=\"dataframe\">\n",
       "  <thead>\n",
       "    <tr style=\"text-align: right;\">\n",
       "      <th></th>\n",
       "      <th>Delta</th>\n",
       "      <th>Correct</th>\n",
       "    </tr>\n",
       "  </thead>\n",
       "  <tbody>\n",
       "    <tr>\n",
       "      <th>count</th>\n",
       "      <td>3000.000000</td>\n",
       "      <td>3000.000000</td>\n",
       "    </tr>\n",
       "    <tr>\n",
       "      <th>mean</th>\n",
       "      <td>45.836333</td>\n",
       "      <td>0.716667</td>\n",
       "    </tr>\n",
       "    <tr>\n",
       "      <th>std</th>\n",
       "      <td>26.191319</td>\n",
       "      <td>0.450692</td>\n",
       "    </tr>\n",
       "    <tr>\n",
       "      <th>min</th>\n",
       "      <td>0.000100</td>\n",
       "      <td>0.000000</td>\n",
       "    </tr>\n",
       "    <tr>\n",
       "      <th>25%</th>\n",
       "      <td>23.000000</td>\n",
       "      <td>0.000000</td>\n",
       "    </tr>\n",
       "    <tr>\n",
       "      <th>50%</th>\n",
       "      <td>46.000000</td>\n",
       "      <td>1.000000</td>\n",
       "    </tr>\n",
       "    <tr>\n",
       "      <th>75%</th>\n",
       "      <td>68.500000</td>\n",
       "      <td>1.000000</td>\n",
       "    </tr>\n",
       "    <tr>\n",
       "      <th>max</th>\n",
       "      <td>90.000000</td>\n",
       "      <td>1.000000</td>\n",
       "    </tr>\n",
       "  </tbody>\n",
       "</table>\n",
       "</div>"
      ],
      "text/plain": [
       "             Delta      Correct\n",
       "count  3000.000000  3000.000000\n",
       "mean     45.836333     0.716667\n",
       "std      26.191319     0.450692\n",
       "min       0.000100     0.000000\n",
       "25%      23.000000     0.000000\n",
       "50%      46.000000     1.000000\n",
       "75%      68.500000     1.000000\n",
       "max      90.000000     1.000000"
      ]
     },
     "execution_count": 7,
     "metadata": {},
     "output_type": "execute_result"
    }
   ],
   "source": [
    "df_col.describe()"
   ]
  },
  {
   "cell_type": "code",
   "execution_count": 8,
   "metadata": {
    "collapsed": false,
    "scrolled": true
   },
   "outputs": [
    {
     "data": {
      "text/html": [
       "<div>\n",
       "<table border=\"1\" class=\"dataframe\">\n",
       "  <thead>\n",
       "    <tr style=\"text-align: right;\">\n",
       "      <th></th>\n",
       "      <th>Subject</th>\n",
       "      <th>Feature</th>\n",
       "      <th>Delta</th>\n",
       "      <th>Correct</th>\n",
       "    </tr>\n",
       "  </thead>\n",
       "  <tbody>\n",
       "    <tr>\n",
       "      <th>0</th>\n",
       "      <td>HJK</td>\n",
       "      <td>Ori</td>\n",
       "      <td>88.997214</td>\n",
       "      <td>1</td>\n",
       "    </tr>\n",
       "    <tr>\n",
       "      <th>1</th>\n",
       "      <td>HJK</td>\n",
       "      <td>Ori</td>\n",
       "      <td>-15.793872</td>\n",
       "      <td>0</td>\n",
       "    </tr>\n",
       "    <tr>\n",
       "      <th>2</th>\n",
       "      <td>HJK</td>\n",
       "      <td>Ori</td>\n",
       "      <td>85.487465</td>\n",
       "      <td>1</td>\n",
       "    </tr>\n",
       "    <tr>\n",
       "      <th>3</th>\n",
       "      <td>HJK</td>\n",
       "      <td>Ori</td>\n",
       "      <td>-56.406685</td>\n",
       "      <td>1</td>\n",
       "    </tr>\n",
       "    <tr>\n",
       "      <th>4</th>\n",
       "      <td>HJK</td>\n",
       "      <td>Ori</td>\n",
       "      <td>-57.409471</td>\n",
       "      <td>1</td>\n",
       "    </tr>\n",
       "  </tbody>\n",
       "</table>\n",
       "</div>"
      ],
      "text/plain": [
       "  Subject Feature      Delta  Correct\n",
       "0     HJK     Ori  88.997214        1\n",
       "1     HJK     Ori -15.793872        0\n",
       "2     HJK     Ori  85.487465        1\n",
       "3     HJK     Ori -56.406685        1\n",
       "4     HJK     Ori -57.409471        1"
      ]
     },
     "execution_count": 8,
     "metadata": {},
     "output_type": "execute_result"
    }
   ],
   "source": [
    "# Concatenate\n",
    "df_short = pd.concat([df_ori,df_col],ignore_index=True)\n",
    "df_short.head()"
   ]
  },
  {
   "cell_type": "markdown",
   "metadata": {},
   "source": [
    "##1.3 Bin the data based on the change magnitude (delta)"
   ]
  },
  {
   "cell_type": "markdown",
   "metadata": {},
   "source": [
    "### <font color='red'>Adding new columns to a df -> Use df.loc[:,new_column_name] = value\n",
    "\n",
    "### <font color='red'>Selecting cells based on location  -> Use df.iloc[list or int,list or int] = value"
   ]
  },
  {
   "cell_type": "code",
   "execution_count": 9,
   "metadata": {
    "collapsed": false
   },
   "outputs": [],
   "source": [
    "\"\"\"\n",
    "    Objective: Binning the data\n",
    "    1. Get absolute values of delta\n",
    "    2. Create index for delta\n",
    "    3. Create an column\n",
    "    4. Groupby\n",
    "\"\"\"\n",
    "#1. Get absolute values of delta and add it as a new column\n",
    "df_short.loc[:,'AbsDelta']=abs(df_short['Delta'].values)"
   ]
  },
  {
   "cell_type": "code",
   "execution_count": 10,
   "metadata": {
    "collapsed": false,
    "scrolled": false
   },
   "outputs": [
    {
     "name": "stdout",
     "output_type": "stream",
     "text": [
      "bins=[  0.  10.  20.  30.  40.  50.  60.  70.  80.  90.]\n",
      "ind(1)=633\n",
      "ind(2)=690\n",
      "ind(3)=635\n",
      "ind(4)=679\n",
      "ind(5)=681\n",
      "ind(6)=636\n",
      "ind(7)=695\n",
      "ind(8)=637\n",
      "ind(9)=714\n",
      "total = 6000\n"
     ]
    }
   ],
   "source": [
    "#2. Creat a new index based on bin size\n",
    "def label_bin(data,n_bins):\n",
    "    # takes data and bin size as input, and gives labels to each data point based on histogram results\n",
    "    bins = np.linspace(round(min(data)),round(max(data)),n_bins)\n",
    "    # right=True: the intervals include the right or the left bin edge. \n",
    "    # Digitize default behavior (right==False): does not include right edge\n",
    "    inds = np.digitize(data, bins, right=True)\n",
    "    return bins, inds\n",
    "\n",
    "bins, inds = label_bin(df_short.AbsDelta,10)\n",
    "print 'bins=' + str(bins)\n",
    "\n",
    "# Double check if the sum of the inds in each bin is the number of the total data points\n",
    "tot = 0\n",
    "for i in range(min(inds),max(inds)+1):\n",
    "    print 'ind(' + str(i) + ')=' + str(np.shape(np.where(inds==i))[1])\n",
    "    tot += np.shape(np.where(inds==i))[1]\n",
    "print 'total = ' + str(tot)"
   ]
  },
  {
   "cell_type": "code",
   "execution_count": 11,
   "metadata": {
    "collapsed": true
   },
   "outputs": [],
   "source": [
    "#3. Add this as a new column\n",
    "df_short.loc[:,'DeltaInd']=inds"
   ]
  },
  {
   "cell_type": "code",
   "execution_count": 12,
   "metadata": {
    "collapsed": false,
    "scrolled": true
   },
   "outputs": [
    {
     "data": {
      "text/html": [
       "<div>\n",
       "<table border=\"1\" class=\"dataframe\">\n",
       "  <thead>\n",
       "    <tr style=\"text-align: right;\">\n",
       "      <th></th>\n",
       "      <th>Subject</th>\n",
       "      <th>Feature</th>\n",
       "      <th>Delta</th>\n",
       "      <th>Correct</th>\n",
       "      <th>AbsDelta</th>\n",
       "      <th>DeltaInd</th>\n",
       "    </tr>\n",
       "  </thead>\n",
       "  <tbody>\n",
       "    <tr>\n",
       "      <th>0</th>\n",
       "      <td>HJK</td>\n",
       "      <td>Ori</td>\n",
       "      <td>88.997214</td>\n",
       "      <td>1</td>\n",
       "      <td>88.997214</td>\n",
       "      <td>9</td>\n",
       "    </tr>\n",
       "    <tr>\n",
       "      <th>1</th>\n",
       "      <td>HJK</td>\n",
       "      <td>Ori</td>\n",
       "      <td>-15.793872</td>\n",
       "      <td>0</td>\n",
       "      <td>15.793872</td>\n",
       "      <td>2</td>\n",
       "    </tr>\n",
       "    <tr>\n",
       "      <th>2</th>\n",
       "      <td>HJK</td>\n",
       "      <td>Ori</td>\n",
       "      <td>85.487465</td>\n",
       "      <td>1</td>\n",
       "      <td>85.487465</td>\n",
       "      <td>9</td>\n",
       "    </tr>\n",
       "    <tr>\n",
       "      <th>3</th>\n",
       "      <td>HJK</td>\n",
       "      <td>Ori</td>\n",
       "      <td>-56.406685</td>\n",
       "      <td>1</td>\n",
       "      <td>56.406685</td>\n",
       "      <td>6</td>\n",
       "    </tr>\n",
       "    <tr>\n",
       "      <th>4</th>\n",
       "      <td>HJK</td>\n",
       "      <td>Ori</td>\n",
       "      <td>-57.409471</td>\n",
       "      <td>1</td>\n",
       "      <td>57.409471</td>\n",
       "      <td>6</td>\n",
       "    </tr>\n",
       "  </tbody>\n",
       "</table>\n",
       "</div>"
      ],
      "text/plain": [
       "  Subject Feature      Delta  Correct   AbsDelta  DeltaInd\n",
       "0     HJK     Ori  88.997214        1  88.997214         9\n",
       "1     HJK     Ori -15.793872        0  15.793872         2\n",
       "2     HJK     Ori  85.487465        1  85.487465         9\n",
       "3     HJK     Ori -56.406685        1  56.406685         6\n",
       "4     HJK     Ori -57.409471        1  57.409471         6"
      ]
     },
     "execution_count": 12,
     "metadata": {},
     "output_type": "execute_result"
    }
   ],
   "source": [
    "df_short.head()"
   ]
  },
  {
   "cell_type": "markdown",
   "metadata": {},
   "source": [
    "## 1.4 Compute summary statistics"
   ]
  },
  {
   "cell_type": "code",
   "execution_count": 13,
   "metadata": {
    "collapsed": true
   },
   "outputs": [],
   "source": [
    "\"\"\"\n",
    "    Use Pandas groupby to compute statistics easily\n",
    "\"\"\"\n",
    "grouped = df_short.groupby(['Feature','DeltaInd'])\n",
    "df_mean = grouped.mean()\n",
    "df_ste = grouped.std()/np.sqrt(len(subject_names))"
   ]
  },
  {
   "cell_type": "code",
   "execution_count": 14,
   "metadata": {
    "collapsed": false,
    "scrolled": true
   },
   "outputs": [
    {
     "data": {
      "image/png": "[encoded data removed]",
      "text/plain": [
       "<matplotlib.figure.Figure at 0x1083aeb90>"
      ]
     },
     "metadata": {},
     "output_type": "display_data"
    }
   ],
   "source": [
    "\"\"\"\n",
    "    Draw plots\n",
    "    Simple way of calling groups: ex) df_mean.Correct.Ori\n",
    "\"\"\"\n",
    "\n",
    "fig, (ax1, ax2) = plt.subplots(1,2,sharey=True)\n",
    "fig.set_size_inches(12, 5)\n",
    "\n",
    "# Choose a mid-point of each bin for plotting\n",
    "bins_loc = bins[:-1]+np.diff([bins[0],bins[1]])/2\n",
    "\n",
    "# Draw mean with errors\n",
    "ax1.errorbar(bins_loc,df_mean.Correct.Ori,yerr=df_ste.Correct.Ori/2, color='black', fmt='o--', mfc='white')\n",
    "ax2.errorbar(bins_loc,df_mean.Correct.Col,yerr=df_ste.Correct.Col/2, color='black', fmt='o--', mfc='white')\n",
    "\n",
    "# Axes\n",
    "plt.ylim(0,1)\n",
    "ax1.set_xticks([0,30,60,90])\n",
    "ax2.set_xticks([0,30,60,90])\n",
    "\n",
    "# Labels\n",
    "ax1.set_ylabel('Proportion correct')\n",
    "ax1.set_title('Orientation')\n",
    "ax1.set_xlabel('Change magnitude ($^\\circ$)')\n",
    "ax2.set_title('Color')\n",
    "ax2.set_xlabel('Change magnitude ($^\\circ$)')\n",
    "\n",
    "plt.show()"
   ]
  },
  {
   "cell_type": "markdown",
   "metadata": {},
   "source": [
    "#2. Mturk experiment\n",
    "## Change localization w/ one orientation change and one color change (N = 5)\n",
    "##2.1 Load files"
   ]
  },
  {
   "cell_type": "code",
   "execution_count": 15,
   "metadata": {
    "collapsed": false,
    "scrolled": true
   },
   "outputs": [
    {
     "name": "stdout",
     "output_type": "stream",
     "text": [
      "['mturk_col.mat', 'mturk_ori.mat']\n"
     ]
    }
   ],
   "source": [
    "pathname_mturk = 'mturk_CL/'\n",
    "file_names_mturk = os.listdir(pathname_mturk)\n",
    "print file_names_mturk"
   ]
  },
  {
   "cell_type": "code",
   "execution_count": 16,
   "metadata": {
    "collapsed": false,
    "scrolled": true
   },
   "outputs": [
    {
     "name": "stdout",
     "output_type": "stream",
     "text": [
      "Ori: ['DeltaOri_expOri', '__header__', '__globals__', 'Perf_expOri', '__version__', 'DeltaCol_expOri']\n",
      "Col: ['__globals__', 'DeltaCol_expCol', '__header__', 'DeltaOri_expCol', 'Perf_expCol', '__version__']\n"
     ]
    }
   ],
   "source": [
    "mturk_Ori = loadmat(pathname_mturk+file_names_mturk[1])\n",
    "mturk_Col = loadmat(pathname_mturk+file_names_mturk[0])\n",
    "print 'Ori: ' + str(mturk_Ori.keys())\n",
    "print 'Col: ' + str(mturk_Col.keys())"
   ]
  },
  {
   "cell_type": "code",
   "execution_count": 17,
   "metadata": {
    "collapsed": false,
    "scrolled": true
   },
   "outputs": [
    {
     "name": "stdout",
     "output_type": "stream",
     "text": [
      "np.shape(DeltaOri_Ori):(663, 30)\n",
      "np.shape(DeltaCol_Ori):(663, 30)\n",
      "np.shape(Perf_Ori):(663, 31)\n",
      "np.shape(DeltaCol_Col):(769, 30)\n",
      "np.shape(DeltaOri_Col):(769, 30)\n",
      "np.shape(Perf_Col):(769, 31)\n"
     ]
    }
   ],
   "source": [
    "df_DeltaOri_Ori = DataFrame(mturk_Ori['DeltaOri_expOri'])\n",
    "df_DeltaCol_Ori = DataFrame(mturk_Ori['DeltaCol_expOri'])\n",
    "df_Perf_Ori = DataFrame(mturk_Ori['Perf_expOri'])\n",
    "\n",
    "df_DeltaCol_Col = DataFrame(mturk_Col['DeltaCol_expCol'])\n",
    "df_DeltaOri_Col = DataFrame(mturk_Col['DeltaOri_expCol'])\n",
    "df_Perf_Col = DataFrame(mturk_Col['Perf_expCol'])\n",
    "\n",
    "df_list_Ori = [df_DeltaOri_Ori,df_Perf_Ori,df_DeltaCol_Ori]\n",
    "df_list_Col = [df_DeltaCol_Col,df_Perf_Col,df_DeltaOri_Col]\n",
    "\n",
    "# Check the size of df\n",
    "print 'np.shape(DeltaOri_Ori):'+str(np.shape(df_DeltaOri_Ori))\n",
    "print 'np.shape(DeltaCol_Ori):'+str(np.shape(df_DeltaCol_Ori))\n",
    "print 'np.shape(Perf_Ori):'+str(np.shape(df_Perf_Ori))\n",
    "print 'np.shape(DeltaCol_Col):'+str(np.shape(df_DeltaCol_Col))\n",
    "print 'np.shape(DeltaOri_Col):'+str(np.shape(df_DeltaOri_Col))\n",
    "print 'np.shape(Perf_Col):'+str(np.shape(df_Perf_Col))"
   ]
  },
  {
   "cell_type": "code",
   "execution_count": 18,
   "metadata": {
    "collapsed": false
   },
   "outputs": [],
   "source": [
    "# We are pooling data across trials and subjects for relevant data -> Concatenate\n",
    "n_sbj = 600"
   ]
  },
  {
   "cell_type": "code",
   "execution_count": 19,
   "metadata": {
    "collapsed": false
   },
   "outputs": [],
   "source": [
    "# Concatenate performance columns\n",
    "df = df_list_Ori[1]\n",
    "df_po = DataFrame()\n",
    "for i in range(len(df.columns)-1):\n",
    "    temp = df.loc[:n_sbj-1,i]\n",
    "    df_po = pd.concat([df_po,temp],ignore_index=True)\n",
    "    \n",
    "df = df_list_Col[1]\n",
    "df_pc= DataFrame()\n",
    "for i in range(len(df.columns)-1):\n",
    "    temp = df.loc[:n_sbj-1,i]\n",
    "    df_pc = pd.concat([df_pc,temp],ignore_index=True)\n",
    "df_po.columns = ['PerfRel_Ori']\n",
    "df_pc.columns = ['PerfRel_Col']"
   ]
  },
  {
   "cell_type": "code",
   "execution_count": 20,
   "metadata": {
    "collapsed": true
   },
   "outputs": [],
   "source": [
    "# Concatenate relevant delta columns\n",
    "df_do = DataFrame()\n",
    "df = df_list_Ori[0]\n",
    "for i in range(len(df.columns)):\n",
    "    temp = df.loc[:n_sbj-1,i]\n",
    "    df_do = pd.concat([df_do,temp],ignore_index=True)\n",
    "\n",
    "df_dc = DataFrame()\n",
    "df = df_list_Col[0]\n",
    "for i in range(len(df.columns)):\n",
    "    temp = df.loc[:n_sbj-1,i]\n",
    "    df_dc = pd.concat([df_dc,temp],ignore_index=True)\n",
    "df_do.columns = ['DeltaRel_Ori']\n",
    "df_dc.columns = ['DeltaRel_Col']    "
   ]
  },
  {
   "cell_type": "code",
   "execution_count": 21,
   "metadata": {
    "collapsed": true
   },
   "outputs": [],
   "source": [
    "# Make irrelevant delta columns\n",
    "df_ic_in_o = DataFrame(df_DeltaCol_Ori.loc[:n_sbj-1,len(df_DeltaCol_Ori.columns)-1])\n",
    "df_io_in_c = DataFrame(df_DeltaOri_Col.loc[:n_sbj-1,len(df_DeltaOri_Col.columns)-1])\n",
    "df_ic_in_o.columns = ['DeltaCol_Ori']\n",
    "df_io_in_c.columns = ['DeltaOri_Col']"
   ]
  },
  {
   "cell_type": "markdown",
   "metadata": {},
   "source": [
    "## 2.2 Remap deltas"
   ]
  },
  {
   "cell_type": "code",
   "execution_count": 22,
   "metadata": {
    "collapsed": false
   },
   "outputs": [],
   "source": [
    "\"\"\"\n",
    "    remap deltas\n",
    "    ori: 0-359\n",
    "        0-90: old_delta\n",
    "        91-180: 180-old_delta\n",
    "        181-270: old_delta-180\n",
    "        271-360: 360-old_delta\n",
    "    col: use remap_colors(old_delta)\n",
    "\n",
    "\"\"\" \n",
    "def remap_oris(old_delta):\n",
    "    if old_delta <= 90:\n",
    "        new_delta = old_delta\n",
    "    elif old_delta > 90 and old_delta <=180:\n",
    "        new_delta = 180 - old_delta\n",
    "    elif old_delta > 180 and old_delta <=270:\n",
    "        new_delta = old_delta - 180\n",
    "    elif old_delta > 270 and old_delta <=360:\n",
    "        new_delta = 360 - old_delta\n",
    "        \n",
    "    if new_delta == 0:\n",
    "        new_delta = 0.0001\n",
    "    return new_delta\n",
    "\n",
    "df_do.DeltaRel_Ori = df_do.loc[:,'DeltaRel_Ori'].apply((lambda x: remap_oris(x)))\n",
    "df_dc.DeltaRel_Col = df_dc.loc[:,'DeltaRel_Col'].apply((lambda x: remap_colors(x)))\n",
    "\n",
    "df_ic_in_o.DeltaCol_Ori = df_ic_in_o.loc[:,'DeltaCol_Ori'].apply((lambda x: remap_colors(x)))\n",
    "df_io_in_c.DeltaOri_Col = df_io_in_c.loc[:,'DeltaOri_Col'].apply((lambda x: remap_oris(x)))"
   ]
  },
  {
   "cell_type": "code",
   "execution_count": 23,
   "metadata": {
    "collapsed": false
   },
   "outputs": [],
   "source": [
    "# merge the perf and delta columns\n",
    "df_rel_o = df_po.join(df_do)\n",
    "df_rel_c = df_pc.join(df_dc)\n",
    "\n",
    "df_irr_c = DataFrame(df_Perf_Ori.loc[:n_sbj-1,30]).join(df_ic_in_o)\n",
    "df_irr_c.columns = ['PerfIrr_Col','DeltaIrr_Col']\n",
    "\n",
    "df_irr_o = DataFrame(df_Perf_Col.loc[:n_sbj-1,30]).join(df_io_in_c)\n",
    "df_irr_o.columns = ['PerfIrr_Ori','DeltaIrr_Ori']"
   ]
  },
  {
   "cell_type": "code",
   "execution_count": 24,
   "metadata": {
    "collapsed": false,
    "scrolled": false
   },
   "outputs": [
    {
     "data": {
      "text/html": [
       "<div>\n",
       "<table border=\"1\" class=\"dataframe\">\n",
       "  <thead>\n",
       "    <tr style=\"text-align: right;\">\n",
       "      <th></th>\n",
       "      <th>PerfRel_Ori</th>\n",
       "      <th>DeltaRel_Ori</th>\n",
       "    </tr>\n",
       "  </thead>\n",
       "  <tbody>\n",
       "    <tr>\n",
       "      <th>0</th>\n",
       "      <td>0</td>\n",
       "      <td>3</td>\n",
       "    </tr>\n",
       "    <tr>\n",
       "      <th>1</th>\n",
       "      <td>0</td>\n",
       "      <td>73</td>\n",
       "    </tr>\n",
       "    <tr>\n",
       "      <th>2</th>\n",
       "      <td>0</td>\n",
       "      <td>24</td>\n",
       "    </tr>\n",
       "    <tr>\n",
       "      <th>3</th>\n",
       "      <td>0</td>\n",
       "      <td>23</td>\n",
       "    </tr>\n",
       "    <tr>\n",
       "      <th>4</th>\n",
       "      <td>1</td>\n",
       "      <td>84</td>\n",
       "    </tr>\n",
       "  </tbody>\n",
       "</table>\n",
       "</div>"
      ],
      "text/plain": [
       "   PerfRel_Ori  DeltaRel_Ori\n",
       "0            0             3\n",
       "1            0            73\n",
       "2            0            24\n",
       "3            0            23\n",
       "4            1            84"
      ]
     },
     "execution_count": 24,
     "metadata": {},
     "output_type": "execute_result"
    }
   ],
   "source": [
    "df_rel_o.head()"
   ]
  },
  {
   "cell_type": "code",
   "execution_count": 25,
   "metadata": {
    "collapsed": false,
    "scrolled": true
   },
   "outputs": [
    {
     "data": {
      "text/html": [
       "<div>\n",
       "<table border=\"1\" class=\"dataframe\">\n",
       "  <thead>\n",
       "    <tr style=\"text-align: right;\">\n",
       "      <th></th>\n",
       "      <th>PerfIrr_Ori</th>\n",
       "      <th>DeltaIrr_Ori</th>\n",
       "    </tr>\n",
       "  </thead>\n",
       "  <tbody>\n",
       "    <tr>\n",
       "      <th>0</th>\n",
       "      <td>0</td>\n",
       "      <td>51</td>\n",
       "    </tr>\n",
       "    <tr>\n",
       "      <th>1</th>\n",
       "      <td>0</td>\n",
       "      <td>77</td>\n",
       "    </tr>\n",
       "    <tr>\n",
       "      <th>2</th>\n",
       "      <td>0</td>\n",
       "      <td>82</td>\n",
       "    </tr>\n",
       "    <tr>\n",
       "      <th>3</th>\n",
       "      <td>0</td>\n",
       "      <td>25</td>\n",
       "    </tr>\n",
       "    <tr>\n",
       "      <th>4</th>\n",
       "      <td>0</td>\n",
       "      <td>83</td>\n",
       "    </tr>\n",
       "  </tbody>\n",
       "</table>\n",
       "</div>"
      ],
      "text/plain": [
       "   PerfIrr_Ori  DeltaIrr_Ori\n",
       "0            0            51\n",
       "1            0            77\n",
       "2            0            82\n",
       "3            0            25\n",
       "4            0            83"
      ]
     },
     "execution_count": 25,
     "metadata": {},
     "output_type": "execute_result"
    }
   ],
   "source": [
    "df_irr_o.head()"
   ]
  },
  {
   "cell_type": "code",
   "execution_count": 26,
   "metadata": {
    "collapsed": false,
    "scrolled": false
   },
   "outputs": [
    {
     "name": "stdout",
     "output_type": "stream",
     "text": [
      "ind(1)=2184\n",
      "ind(2)=1997\n",
      "ind(3)=1974\n",
      "ind(4)=2041\n",
      "ind(5)=1948\n",
      "ind(6)=2008\n",
      "ind(7)=1879\n",
      "ind(8)=2051\n",
      "ind(9)=1918\n",
      "total = 18000\n",
      "ind(1)=1970\n",
      "ind(2)=2025\n",
      "ind(3)=1956\n",
      "ind(4)=2055\n",
      "ind(5)=2026\n",
      "ind(6)=1938\n",
      "ind(7)=1977\n",
      "ind(8)=2054\n",
      "ind(9)=1999\n",
      "total = 18000\n",
      "ind(1)=62\n",
      "ind(2)=65\n",
      "ind(3)=63\n",
      "ind(4)=74\n",
      "ind(5)=76\n",
      "ind(6)=71\n",
      "ind(7)=57\n",
      "ind(8)=71\n",
      "ind(9)=61\n",
      "total = 600\n",
      "ind(1)=76\n",
      "ind(2)=69\n",
      "ind(3)=73\n",
      "ind(4)=60\n",
      "ind(5)=54\n",
      "ind(6)=78\n",
      "ind(7)=78\n",
      "ind(8)=50\n",
      "ind(9)=62\n",
      "total = 600\n"
     ]
    }
   ],
   "source": [
    "# Double check if the sum of the inds in each bin is the number of the total data points\n",
    "def check_bins(inds):\n",
    "    tot = 0\n",
    "    for i in range(min(inds),max(inds)+1):\n",
    "        print 'ind(' + str(i) + ')=' + str(np.shape(np.where(inds==i))[1])\n",
    "        tot += np.shape(np.where(inds==i))[1]\n",
    "    print 'total = ' + str(tot)\n",
    "\n",
    "bins, inds_ro = label_bin(df_rel_o.DeltaRel_Ori,10)\n",
    "check_bins(inds_ro)\n",
    "\n",
    "bins, inds_rc = label_bin(df_rel_c.DeltaRel_Col,10)\n",
    "check_bins(inds_rc)\n",
    "\n",
    "bins, inds_io = label_bin(df_irr_o.DeltaIrr_Ori,10)\n",
    "check_bins(inds_io)\n",
    "\n",
    "bins, inds_ic = label_bin(df_irr_c.DeltaIrr_Col,10)\n",
    "check_bins(inds_ic)"
   ]
  },
  {
   "cell_type": "code",
   "execution_count": 27,
   "metadata": {
    "collapsed": true
   },
   "outputs": [],
   "source": [
    "# Add inds as a new column\n",
    "df_rel_o.loc[:,'DeltaInd']=inds_ro\n",
    "df_rel_c.loc[:,'DeltaInd']=inds_rc\n",
    "df_irr_o.loc[:,'DeltaInd']=inds_io\n",
    "df_irr_c.loc[:,'DeltaInd']=inds_ic"
   ]
  },
  {
   "cell_type": "code",
   "execution_count": 28,
   "metadata": {
    "collapsed": true
   },
   "outputs": [],
   "source": [
    "grouped_ro = df_rel_o.groupby(['DeltaInd'])\n",
    "grouped_rc = df_rel_c.groupby(['DeltaInd'])\n",
    "grouped_io = df_irr_o.groupby(['DeltaInd'])\n",
    "grouped_ic = df_irr_c.groupby(['DeltaInd'])\n",
    "#df_mean = grouped.mean()\n",
    "#df_ste = grouped.std()/np.sqrt(len(subject_names))"
   ]
  },
  {
   "cell_type": "markdown",
   "metadata": {},
   "source": [
    "## 2.3 Bootstraping for relevant feature data"
   ]
  },
  {
   "cell_type": "markdown",
   "metadata": {},
   "source": [
    "Ref: http://people.duke.edu/~ccc14/pcfb/analysis.html"
   ]
  },
  {
   "cell_type": "code",
   "execution_count": 29,
   "metadata": {
    "collapsed": true
   },
   "outputs": [],
   "source": [
    "import numpy.random as npr\n",
    "import pylab\n",
    "\n",
    "def bootstrap(data, num_samples, statistic, alpha):\n",
    "    \"\"\"Returns bootstrap estimate of 100.0*(1-alpha) CI for statistic.\"\"\"\n",
    "    n = len(data)\n",
    "    idx = npr.randint(0, n, (num_samples, n))\n",
    "    samples = data[idx]\n",
    "    stat = np.sort(statistic(samples, 1))\n",
    "    return (stat[int((alpha/2.0)*num_samples)],\n",
    "            stat[int((1-alpha/2.0)*num_samples)])"
   ]
  },
  {
   "cell_type": "code",
   "execution_count": 30,
   "metadata": {
    "collapsed": false,
    "scrolled": true
   },
   "outputs": [],
   "source": [
    "# Get group based on DeltaInd (1, ... ,9) and run Boostrap to compute low/high mean w/ CI of 95%\n",
    "def get_bts_err_rel(feattype,df,n_samples,alpha):\n",
    "    \"\"\" Gives low and high bootstrap error value for each DeltaInd \"\"\"\n",
    "    lows = []\n",
    "    highs = []\n",
    "    for group_key in df.groups.keys():\n",
    "        if feattype == 'Ori':\n",
    "            data = df.get_group(group_key).PerfRel_Ori.values\n",
    "        elif feattype == 'Col':\n",
    "            data = df.get_group(group_key).PerfRel_Col.values\n",
    "        low, high =  bootstrap(data, n_samples, np.mean, alpha)\n",
    "        lows.append(low)\n",
    "        highs.append(high)\n",
    "    return lows, highs\n",
    "\n",
    "alpha = 0.05\n",
    "n_samples = 10000\n",
    "\n",
    "lows_ro, highs_ro = get_bts_err_rel('Ori',grouped_ro,n_samples,alpha)\n",
    "lows_rc, highs_rc = get_bts_err_rel('Col',grouped_rc,n_samples,alpha)"
   ]
  },
  {
   "cell_type": "code",
   "execution_count": 31,
   "metadata": {
    "collapsed": true
   },
   "outputs": [],
   "source": [
    "\"\"\" If a sequence of shape 2xN, errorbars are drawn at -row1 and +row2 relative to the data. \"\"\"\n",
    "mean_ro = grouped_ro.PerfRel_Ori.mean()\n",
    "mean_rc = grouped_rc.PerfRel_Col.mean()\n",
    "\n",
    "row1_ro = mean_ro-lows_ro\n",
    "row2_ro = highs_ro-mean_ro\n",
    "row1_rc = mean_rc-lows_rc\n",
    "row2_rc = highs_rc-mean_rc"
   ]
  },
  {
   "cell_type": "markdown",
   "metadata": {},
   "source": [
    "## 2.4 Irrelevant features"
   ]
  },
  {
   "cell_type": "code",
   "execution_count": 32,
   "metadata": {
    "collapsed": false
   },
   "outputs": [],
   "source": [
    "# Bootstrapping\n",
    "def get_bts_err_irr(feattype,df,n_samples,alpha):\n",
    "    \"\"\" Gives low and high bootstrap error value for each DeltaInd \"\"\"\n",
    "    lows = []\n",
    "    highs = []\n",
    "    for group_key in df.groups.keys():\n",
    "        if feattype == 'Ori':\n",
    "            data = df.get_group(group_key).PerfIrr_Ori.values\n",
    "        elif feattype == 'Col':\n",
    "            data = df.get_group(group_key).PerfIrr_Col.values\n",
    "        low, high =  bootstrap(data, n_samples, np.mean, alpha)\n",
    "        lows.append(low)\n",
    "        highs.append(high)\n",
    "    return lows, highs\n",
    "\n",
    "alpha = 0.05\n",
    "n_samples = 10000\n",
    "lows_io, highs_io = get_bts_err_irr('Ori',grouped_io,n_samples,alpha)\n",
    "lows_ic, highs_ic = get_bts_err_irr('Col',grouped_ic,n_samples,alpha)"
   ]
  },
  {
   "cell_type": "code",
   "execution_count": 33,
   "metadata": {
    "collapsed": true
   },
   "outputs": [],
   "source": [
    "mean_io = grouped_io.PerfIrr_Ori.mean()\n",
    "mean_ic = grouped_ic.PerfIrr_Col.mean()\n",
    "\n",
    "row1_io = mean_io-lows_io\n",
    "row2_io = highs_io-mean_io\n",
    "row1_ic = mean_ic-lows_ic\n",
    "row2_ic = highs_ic-mean_ic"
   ]
  },
  {
   "cell_type": "markdown",
   "metadata": {},
   "source": [
    "## 2.5 Plotting altogether"
   ]
  },
  {
   "cell_type": "code",
   "execution_count": 34,
   "metadata": {
    "collapsed": false
   },
   "outputs": [
    {
     "data": {
      "image/png": "[encoded data removed]",
      "text/plain": [
       "<matplotlib.figure.Figure at 0x1088dc250>"
      ]
     },
     "metadata": {},
     "output_type": "display_data"
    }
   ],
   "source": [
    "\"\"\"\n",
    "    Draw plots together w/ lab exp\n",
    "\"\"\"\n",
    "fig, (ax1, ax2) = plt.subplots(1,2,sharey=True)\n",
    "fig.set_size_inches(12, 5)\n",
    "\n",
    "# Choose a mid-point of each bin for plotting\n",
    "bins_loc = bins[:-1]+np.diff([bins[0],bins[1]])/2\n",
    "\n",
    "# Lab exp\n",
    "ax1.errorbar(bins_loc,df_mean.Correct.Ori,yerr=df_ste.Correct.Ori/2, color='black', fmt='o-', mfc='white')\n",
    "ax2.errorbar(bins_loc,df_mean.Correct.Col,yerr=df_ste.Correct.Col/2, color='black', fmt='o-', mfc='white')\n",
    "# Relevant feature\n",
    "ax1.errorbar(bins_loc,mean_ro,yerr=[row1_ro,row2_ro], color='blue', fmt='o-', mfc='white')\n",
    "ax2.errorbar(bins_loc,mean_rc,yerr=[row1_rc,row2_rc], color='blue', fmt='o-', mfc='white')\n",
    "# Irrelevant feature\n",
    "ax1.errorbar(bins_loc,mean_io,yerr=[row1_io,row2_io], color='red', fmt='o-', mfc='white')\n",
    "ax2.errorbar(bins_loc,mean_ic,yerr=[row1_ic,row2_ic], color='red', fmt='o-', mfc='white')\n",
    "# Chance level\n",
    "ax1.plot([0,90],[0.25,0.25],'r--',lw=2)\n",
    "ax2.plot([0,90],[0.25,0.25],'r--',lw=2)\n",
    "\n",
    "# Axes\n",
    "plt.ylim(0,1)\n",
    "ax1.set_xticks([0,30,60,90])\n",
    "ax2.set_xticks([0,30,60,90])\n",
    "\n",
    "# Labels\n",
    "ax1.set_ylabel('Proportion correct')\n",
    "ax1.set_title('Orientation')\n",
    "ax1.set_xlabel('Change magnitude ($^\\circ$)')\n",
    "ax2.set_title('Color')\n",
    "ax2.set_xlabel('Change magnitude ($^\\circ$)')\n",
    "\n",
    "plt.show()"
   ]
  },
  {
   "cell_type": "markdown",
   "metadata": {},
   "source": [
    "##2.6 Statistical analysis"
   ]
  },
  {
   "cell_type": "code",
   "execution_count": 35,
   "metadata": {
    "collapsed": false
   },
   "outputs": [],
   "source": [
    "import scipy\n",
    "import scipy.stats"
   ]
  },
  {
   "cell_type": "code",
   "execution_count": 36,
   "metadata": {
    "collapsed": false,
    "scrolled": true
   },
   "outputs": [
    {
     "name": "stdout",
     "output_type": "stream",
     "text": [
      "Ttest_1sampResult(statistic=5.1459661548395417, pvalue=0.0008786659760426222)\n",
      "Ttest_1sampResult(statistic=6.2128099179567311, pvalue=0.00025583477539573777)\n"
     ]
    }
   ],
   "source": [
    "\"\"\"\n",
    "    1. Lab vs. chance\n",
    "        one-sample t-test\n",
    "\"\"\"\n",
    "print scipy.stats.ttest_1samp(df_mean.Correct.Ori,0.25)\n",
    "print scipy.stats.ttest_1samp(df_mean.Correct.Col,0.25)"
   ]
  },
  {
   "cell_type": "code",
   "execution_count": 37,
   "metadata": {
    "collapsed": false,
    "scrolled": true
   },
   "outputs": [
    {
     "name": "stdout",
     "output_type": "stream",
     "text": [
      "Ttest_1sampResult(statistic=5.3684515337522347, pvalue=0.00067084525945374559)\n",
      "Ttest_1sampResult(statistic=6.4900996460772991, pvalue=0.0001900780455306798)\n"
     ]
    }
   ],
   "source": [
    "\"\"\"\n",
    "    2. mturk(Rel) vs. chance\n",
    "        one-sample t-test\n",
    "\"\"\"\n",
    "print scipy.stats.ttest_1samp(mean_ro,0.25)\n",
    "print scipy.stats.ttest_1samp(mean_rc,0.25)"
   ]
  },
  {
   "cell_type": "code",
   "execution_count": 43,
   "metadata": {
    "collapsed": false,
    "scrolled": false
   },
   "outputs": [
    {
     "name": "stdout",
     "output_type": "stream",
     "text": [
      "Ttest_1sampResult(statistic=4.8029782945074899, pvalue=0.0013503872378631647)\n",
      "Ttest_1sampResult(statistic=5.5819946042955468, pvalue=0.00052108471484278154)\n"
     ]
    }
   ],
   "source": [
    "\"\"\"\n",
    "    3. lab vs. mturk (Rel)\n",
    "        one-sample t-test\n",
    "grouped_2 = df_short.groupby(['Feature','DeltaInd','Subject'])\n",
    "df_mean_2 = grouped_2.mean()\n",
    "pvals = []\n",
    "print \"ORIENTATION\"\n",
    "for i in range(1,len(bins)):\n",
    "    print scipy.stats.ttest_1samp(df_mean_2.Correct.Ori[5*(i-1):5*i],mean_ro[i])\n",
    "    pvals.append(scipy.stats.ttest_1samp(df_mean_2.Correct.Ori[5*(i-1):5*i],mean_ro[i])[1])\n",
    "\"\"\"\n",
    "print scipy.stats.ttest_1samp(df_mean.Correct.Ori-mean_ro,0)\n",
    "print scipy.stats.ttest_1samp(df_mean.Correct.Col-mean_rc,0)"
   ]
  },
  {
   "cell_type": "code",
   "execution_count": 48,
   "metadata": {
    "collapsed": false
   },
   "outputs": [
    {
     "name": "stdout",
     "output_type": "stream",
     "text": [
      "Ttest_1sampResult(statistic=-0.27437407432077515, pvalue=0.79074904309423399)\n",
      "Ttest_1sampResult(statistic=0.63418395565202945, pvalue=0.54366467831182275)\n",
      "io: mean+/-ste = 0.243151409789+/-0.0176130842917\n",
      "ic: mean+/-ste = 0.261326744385+/-0.0179592016873\n"
     ]
    }
   ],
   "source": [
    "\"\"\"\n",
    "    4. mturk (Irr) vs. chance \n",
    "        Mann Whitney U test\n",
    "    + compute mean and ste of io/ic data\n",
    "        \n",
    "\"\"\"\n",
    "print scipy.stats.ttest_1samp(mean_io,0.25)\n",
    "print scipy.stats.ttest_1samp(mean_ic,0.25)\n",
    "print 'io: mean+/-ste = ' + str(np.mean(mean_io)) + '+/-' + str(df_irr_o.PerfIrr_Ori.std()/np.sqrt(len(df_irr_o)))\n",
    "print 'ic: mean+/-ste = ' + str(np.mean(mean_ic)) + '+/-' + str(df_irr_c.PerfIrr_Col.std()/np.sqrt(len(df_irr_c)))"
   ]
  }
 ],
 "metadata": {
  "kernelspec": {
   "display_name": "Python 2",
   "language": "python",
   "name": "python2"
  },
  "language_info": {
   "codemirror_mode": {
    "name": "ipython",
    "version": 2
   },
   "file_extension": ".py",
   "mimetype": "text/x-python",
   "name": "python",
   "nbconvert_exporter": "python",
   "pygments_lexer": "ipython2",
   "version": "2.7.10"
  }
 },
 "nbformat": 4,
 "nbformat_minor": 0
}
