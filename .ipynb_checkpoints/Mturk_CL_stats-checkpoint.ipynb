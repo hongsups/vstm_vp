{
 "cells": [
  {
   "cell_type": "code",
   "execution_count": 63,
   "metadata": {
    "collapsed": false
   },
   "outputs": [],
   "source": [
    "\"\"\"\n",
    "    Objective 1: Lab data\n",
    "        - Plot the data\n",
    "        - Check average performance (binnned) increases w/ delta -> RM-ANOVA\n",
    "        - Both for orientation and color\n",
    "    Objective 2: mturk data\n",
    "        - Bootstrap samples to compute standard error\n",
    "        - relevant data: check average performance (binned) increases w/ delta -> RM-ANOVA\n",
    "        - Irrelevant data: check average performance (binned) is \n",
    "            significantly different from chance -> one-sided t-test\n",
    "    Objective 3: Lab vs. mturk data (relevant)\n",
    "        - Check mturk data is significanlty worse than lab data -> two-sided t-test\n",
    "\"\"\"\n",
    "import fnmatch # file name matching\n",
    "import os\n",
    "from scipy.io import loadmat\n",
    "\n",
    "from pandas import DataFrame, Series\n",
    "import pandas as pd\n",
    "import scipy as sp\n",
    "import numpy as np\n",
    "\n",
    "import matplotlib.pyplot as plt\n",
    "%matplotlib inline\n",
    "import matplotlib"
   ]
  },
  {
   "cell_type": "markdown",
   "metadata": {},
   "source": [
    "#1. Laboratory experiment\n",
    "## Change localization w/ one orientation change and one color change (N = 5)\n",
    "##1.1 Load files"
   ]
  },
  {
   "cell_type": "code",
   "execution_count": 11,
   "metadata": {
    "collapsed": false,
    "scrolled": true
   },
   "outputs": [],
   "source": [
    "\"\"\" Define path name and subject names \"\"\"\n",
    "pathname = 'one_change_lab/'\n",
    "file_names = os.listdir(pathname)\n",
    "subject_names = ['HJK','HS0','LLT','WK0','WZ0']"
   ]
  },
  {
   "cell_type": "code",
   "execution_count": 90,
   "metadata": {
    "collapsed": false,
    "scrolled": true
   },
   "outputs": [],
   "source": [
    "\"\"\" Create a DataFrame for all subject data \"\"\"\n",
    "index = 1\n",
    "# Loop over subjects (subject_names)\n",
    "df = DataFrame()\n",
    "for index in [1,2]:\n",
    "    temp2 = DataFrame()\n",
    "    for subject_name in subject_names:\n",
    "        # Create a tag to find files based on a subject name\n",
    "        subject_tag = subject_name + '6_6_' + str(index)\n",
    "        # Filter the files\n",
    "        subject_files = fnmatch.filter(file_names, subject_tag + '*.mat')\n",
    "        # Loop over filtered files\n",
    "        temp1 = DataFrame()\n",
    "        for subject_file in subject_files:\n",
    "            # Convert a MATLAB matrix to a DataFrame\n",
    "            temp0 = DataFrame(loadmat(pathname+subject_file)['datamatrix'])\n",
    "            # Concatenate DataFrames\n",
    "            temp1 = pd.concat([temp1,temp0],ignore_index=True)\n",
    "        # Create a column to assign subject names\n",
    "        temp1['Name'] = DataFrame([subject_name]*len(temp1))\n",
    "        # Concatenate\n",
    "        temp2 = pd.concat([temp2,temp1],ignore_index=True)\n",
    "        # Create a column to assign experiment index\n",
    "        if index == 1:\n",
    "            temp2['Feature'] = DataFrame(['Ori']*len(temp2))\n",
    "        elif index == 2:\n",
    "            temp2['Feature'] = DataFrame(['Col']*len(temp2))\n",
    "    # Concatenate all subject data to create a single DataFrame            \n",
    "    df = pd.concat([df,temp2],ignore_index=True)"
   ]
  },
  {
   "cell_type": "code",
   "execution_count": 94,
   "metadata": {
    "collapsed": false,
    "scrolled": true
   },
   "outputs": [
    {
     "data": {
      "text/html": [
       "<div style=\"max-height:1000px;max-width:1500px;overflow:auto;\">\n",
       "<table border=\"1\" class=\"dataframe\">\n",
       "  <thead>\n",
       "    <tr style=\"text-align: right;\">\n",
       "      <th></th>\n",
       "      <th>Subject</th>\n",
       "      <th>Feature</th>\n",
       "      <th>Delta</th>\n",
       "      <th>Correct</th>\n",
       "    </tr>\n",
       "  </thead>\n",
       "  <tbody>\n",
       "    <tr>\n",
       "      <th>0</th>\n",
       "      <td>HJK</td>\n",
       "      <td>Ori</td>\n",
       "      <td>88.997214</td>\n",
       "      <td>1</td>\n",
       "    </tr>\n",
       "    <tr>\n",
       "      <th>1</th>\n",
       "      <td>HJK</td>\n",
       "      <td>Ori</td>\n",
       "      <td>-15.793872</td>\n",
       "      <td>0</td>\n",
       "    </tr>\n",
       "    <tr>\n",
       "      <th>2</th>\n",
       "      <td>HJK</td>\n",
       "      <td>Ori</td>\n",
       "      <td>85.487465</td>\n",
       "      <td>1</td>\n",
       "    </tr>\n",
       "    <tr>\n",
       "      <th>3</th>\n",
       "      <td>HJK</td>\n",
       "      <td>Ori</td>\n",
       "      <td>-56.406685</td>\n",
       "      <td>1</td>\n",
       "    </tr>\n",
       "    <tr>\n",
       "      <th>4</th>\n",
       "      <td>HJK</td>\n",
       "      <td>Ori</td>\n",
       "      <td>-57.409471</td>\n",
       "      <td>1</td>\n",
       "    </tr>\n",
       "  </tbody>\n",
       "</table>\n",
       "</div>"
      ],
      "text/plain": [
       "  Subject Feature      Delta  Correct\n",
       "0     HJK     Ori  88.997214        1\n",
       "1     HJK     Ori -15.793872        0\n",
       "2     HJK     Ori  85.487465        1\n",
       "3     HJK     Ori -56.406685        1\n",
       "4     HJK     Ori -57.409471        1"
      ]
     },
     "execution_count": 94,
     "metadata": {},
     "output_type": "execute_result"
    }
   ],
   "source": [
    "df_short = df[['Name','Feature',1,8]]\n",
    "df_short.columns = ['Subject', 'Feature','Delta','Correct']\n",
    "df_short.head()"
   ]
  },
  {
   "cell_type": "code",
   "execution_count": null,
   "metadata": {
    "collapsed": true
   },
   "outputs": [],
   "source": []
  }
 ],
 "metadata": {
  "kernelspec": {
   "display_name": "Python 2",
   "language": "python",
   "name": "python2"
  },
  "language_info": {
   "codemirror_mode": {
    "name": "ipython",
    "version": 2
   },
   "file_extension": ".py",
   "mimetype": "text/x-python",
   "name": "python",
   "nbconvert_exporter": "python",
   "pygments_lexer": "ipython2",
   "version": "2.7.10"
  }
 },
 "nbformat": 4,
 "nbformat_minor": 0
}
