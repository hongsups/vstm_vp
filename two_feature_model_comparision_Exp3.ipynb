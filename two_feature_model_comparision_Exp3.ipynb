{
 "cells": [
  {
   "cell_type": "markdown",
   "metadata": {},
   "source": [
    "# Model comparision for change localization with two features\n",
    "- Experiment 3 in Shin & Ma (2015-2)"
   ]
  },
  {
   "cell_type": "code",
   "execution_count": 1,
   "metadata": {
    "collapsed": true
   },
   "outputs": [],
   "source": [
    "import fnmatch # file name matching\n",
    "import os\n",
    "from scipy.io import loadmat\n",
    "\n",
    "from pandas import DataFrame, Series\n",
    "import pandas as pd\n",
    "import scipy as sp\n",
    "import numpy as np\n",
    "\n",
    "import matplotlib.pyplot as plt\n",
    "%matplotlib inline\n",
    "import seaborn as sns\n",
    "sns.set('poster')\n",
    "sns.set_style('whitegrid')\n",
    "\n",
    "import statsmodels.api as sm\n",
    "\n",
    "pd.options.mode.chained_assignment = None"
   ]
  },
  {
   "cell_type": "markdown",
   "metadata": {},
   "source": [
    "# 1. Data "
   ]
  },
  {
   "cell_type": "code",
   "execution_count": 6,
   "metadata": {
    "collapsed": false
   },
   "outputs": [],
   "source": [
    "# %load concat_matfiles.py\n",
    "def concat_matfiles(exp_code,exp_ids,pathname,subject_names,exp_num=0):\n",
    "    # Create a DataFrame from mat files by looping over subjects (subject_names)\n",
    "    file_names = os.listdir(pathname)\n",
    "    \n",
    "    df = DataFrame()\n",
    "    for exp_id in exp_ids:\n",
    "        temp2 = DataFrame()\n",
    "        for subject_name in subject_names:\n",
    "\n",
    "            # Create a tag to find files based on a subject name\n",
    "            if exp_num == 0:\n",
    "                subject_tag = subject_name + str(exp_code) + '_' + str(exp_id) + '_'\n",
    "            else:\n",
    "                subject_tag = subject_name + str(exp_code) + '_' + str(exp_code) + '_' + str(exp_id) + '_'\n",
    "            subject_files = fnmatch.filter(file_names, subject_tag + '*.mat') # Filter the files\n",
    "\n",
    "            # Loop over filtered files\n",
    "            temp1 = DataFrame()\n",
    "            for subject_file in subject_files:\n",
    "\n",
    "                # Convert a MATLAB matrix to a DataFrame\n",
    "                temp0 = DataFrame(loadmat(pathname+subject_file)['datamatrix'])\n",
    "                temp1 = pd.concat([temp1,temp0],ignore_index=True) # Concatenate DataFrames\n",
    "\n",
    "            # Create a column to assign subject names\n",
    "            temp1['Name'] = DataFrame([subject_name]*len(temp1))\n",
    "            temp2 = pd.concat([temp2,temp1],ignore_index=True) # Concatenate\n",
    "\n",
    "            # Create a column to assign experiment index\n",
    "            if exp_id == 1:\n",
    "                feat_name = 'OriA'\n",
    "            elif exp_id == 2:\n",
    "                feat_name = 'ColA'\n",
    "            elif exp_id == 3:\n",
    "                feat_name = 'OriC'\n",
    "            elif exp_id == 4:\n",
    "                feat_name = 'ColC'\n",
    "            elif exp_id == 5:\n",
    "                feat_name = 'OriD2'\n",
    "            elif exp_id == 6:\n",
    "                feat_name = 'ColD2'\n",
    "            elif exp_code == 6 and exp_id == 1:\n",
    "                feat_name = 'OriD1'\n",
    "            elif exp_code == 6 and exp_id == 2:\n",
    "                feat_name = 'ColD1'\n",
    "            else:\n",
    "                feat_name = 'B'                \n",
    "            temp2['Feature'] = DataFrame([feat_name]*len(temp2))\n",
    "                \n",
    "        # Concatenate all subject data to create a single DataFrame            \n",
    "        df = pd.concat([df,temp2],ignore_index=True)\n",
    "    return df"
   ]
  },
  {
   "cell_type": "code",
   "execution_count": 5,
   "metadata": {
    "collapsed": true
   },
   "outputs": [],
   "source": [
    "def remap_colors(old_delta):\n",
    "    if old_delta <= 180:\n",
    "        new_delta = old_delta\n",
    "    else:\n",
    "        new_delta = 360 - old_delta\n",
    "    new_delta = new_delta/2.0\n",
    "    return new_delta"
   ]
  },
  {
   "cell_type": "code",
   "execution_count": 7,
   "metadata": {
    "collapsed": false
   },
   "outputs": [
    {
     "name": "stdout",
     "output_type": "stream",
     "text": [
      "set(['WK0', 'HS0', 'HJK', 'WZ0', 'LLT'])\n"
     ]
    }
   ],
   "source": [
    "# Load data\n",
    "\n",
    "pathnameD1 = 'one_change_lab/'\n",
    "pathnameCD2 = 'two_feature_data/Exp3_all_change/' # this contains both Conditions A and D\n",
    "subject_namesD1 = ['HJK','HS0','LLT','WK0','WZ0']\n",
    "subject_namesCD2 = ['HJK','HS0','JSK','LLT','LN0','MBC','WK0','WZ0']\n",
    "\n",
    "# there are only 3 subjects who did all experiments\n",
    "common_subjects = set(subject_namesD1) & set(subject_namesCD2)\n",
    "print common_subjects"
   ]
  },
  {
   "cell_type": "code",
   "execution_count": 8,
   "metadata": {
    "collapsed": false
   },
   "outputs": [
    {
     "data": {
      "text/html": [
       "<div>\n",
       "<table border=\"1\" class=\"dataframe\">\n",
       "  <thead>\n",
       "    <tr style=\"text-align: right;\">\n",
       "      <th></th>\n",
       "      <th>Delta_Ori</th>\n",
       "      <th>Delta_Col</th>\n",
       "      <th>Correct</th>\n",
       "    </tr>\n",
       "  </thead>\n",
       "  <tbody>\n",
       "    <tr>\n",
       "      <th>count</th>\n",
       "      <td>18000.000000</td>\n",
       "      <td>18000.000000</td>\n",
       "      <td>18000.000000</td>\n",
       "    </tr>\n",
       "    <tr>\n",
       "      <th>mean</th>\n",
       "      <td>-0.576351</td>\n",
       "      <td>30.277167</td>\n",
       "      <td>0.687500</td>\n",
       "    </tr>\n",
       "    <tr>\n",
       "      <th>std</th>\n",
       "      <td>42.391533</td>\n",
       "      <td>30.165285</td>\n",
       "      <td>0.463525</td>\n",
       "    </tr>\n",
       "    <tr>\n",
       "      <th>min</th>\n",
       "      <td>-90.000000</td>\n",
       "      <td>0.000000</td>\n",
       "      <td>0.000000</td>\n",
       "    </tr>\n",
       "    <tr>\n",
       "      <th>25%</th>\n",
       "      <td>-23.816156</td>\n",
       "      <td>0.000000</td>\n",
       "      <td>0.000000</td>\n",
       "    </tr>\n",
       "    <tr>\n",
       "      <th>50%</th>\n",
       "      <td>0.000000</td>\n",
       "      <td>23.000000</td>\n",
       "      <td>1.000000</td>\n",
       "    </tr>\n",
       "    <tr>\n",
       "      <th>75%</th>\n",
       "      <td>21.309192</td>\n",
       "      <td>57.000000</td>\n",
       "      <td>1.000000</td>\n",
       "    </tr>\n",
       "    <tr>\n",
       "      <th>max</th>\n",
       "      <td>90.000000</td>\n",
       "      <td>90.000000</td>\n",
       "      <td>1.000000</td>\n",
       "    </tr>\n",
       "  </tbody>\n",
       "</table>\n",
       "</div>"
      ],
      "text/plain": [
       "          Delta_Ori     Delta_Col       Correct\n",
       "count  18000.000000  18000.000000  18000.000000\n",
       "mean      -0.576351     30.277167      0.687500\n",
       "std       42.391533     30.165285      0.463525\n",
       "min      -90.000000      0.000000      0.000000\n",
       "25%      -23.816156      0.000000      0.000000\n",
       "50%        0.000000     23.000000      1.000000\n",
       "75%       21.309192     57.000000      1.000000\n",
       "max       90.000000     90.000000      1.000000"
      ]
     },
     "execution_count": 8,
     "metadata": {},
     "output_type": "execute_result"
    }
   ],
   "source": [
    "exp_idsCD2 = [3,4,5,6] # 5: orientation + irrelevant color, 6: color + irrelevant orientation\n",
    "exp_idsD1 = [1,2] # 1: orientation, 2: color\n",
    "exp_codeCD2 = 3\n",
    "exp_codeD1 = 6\n",
    "\n",
    "# concatenating dataset\n",
    "dfCD2 = concat_matfiles(exp_codeCD2,exp_idsCD2,pathnameCD2,common_subjects)\n",
    "dfD1 = concat_matfiles(exp_codeD1,exp_idsD1,pathnameD1,common_subjects,exp_num=1)\n",
    "df = pd.concat([dfCD2,dfD1],ignore_index=True)\n",
    "df3 = df[['Name','Feature',1,2,8]]\n",
    "df3.columns = ['Subject','Feature','Delta_Ori','Delta_Col','Correct']\n",
    "\n",
    "df3.Delta_Col = df3.Delta_Col.apply((lambda x: remap_colors(x)))\n",
    "df3.describe()"
   ]
  },
  {
   "cell_type": "markdown",
   "metadata": {},
   "source": [
    "# 2. \"Model 4\"\n",
    "- Orientation and color has its own independent resource.\n",
    "- Entire resource is used to relevant information.\n",
    "- A portion of resource is used to irrelevant information (ratio parameter).\n",
    "- Each feature is independenlty encoded.\n",
    "- In the decision-making step, an observer takes into account both relevant and irrelevant information."
   ]
  },
  {
   "cell_type": "code",
   "execution_count": null,
   "metadata": {
    "collapsed": true
   },
   "outputs": [],
   "source": [
    "from scipy.special import i0\n",
    "def compute_ds(J_bar,tau,target,delta,n_change):\n",
    "    # J_bar = 0 is actually not possible because shape and scale parameters are defined in positive domain.\n",
    "    Js = np.random.gamma(J_bar/tau, tau, N*2)\n",
    "    k1 = Js[:N]\n",
    "    k2 = Js[N:]\n",
    "    \n",
    "    dL_noise = np.random.vonmises(0, k1)-np.random.vonmises(0, k2)\n",
    "\n",
    "    if n_change == 1:\n",
    "        dL_noise[target] = dL_noise[target] + delta\n",
    "    else:\n",
    "        dL_noise = dL_noise + delta\n",
    "        \n",
    "    k_denom = np.sqrt(k1**2 + k2**2 + 2*k1*k2*np.cos(dL_noise))\n",
    "    d = i0(k1)*i0(k2)*np.exp(k1+k2-k_denom)/i0(k_denom)\n",
    "\n",
    "    return d"
   ]
  }
 ],
 "metadata": {
  "kernelspec": {
   "display_name": "Python 2",
   "language": "python",
   "name": "python2"
  },
  "language_info": {
   "codemirror_mode": {
    "name": "ipython",
    "version": 2
   },
   "file_extension": ".py",
   "mimetype": "text/x-python",
   "name": "python",
   "nbconvert_exporter": "python",
   "pygments_lexer": "ipython2",
   "version": "2.7.11"
  }
 },
 "nbformat": 4,
 "nbformat_minor": 0
}
