{
 "cells": [
  {
   "cell_type": "markdown",
   "metadata": {},
   "source": [
    "#Power analysis for binomial test"
   ]
  },
  {
   "cell_type": "code",
   "execution_count": 1,
   "metadata": {
    "collapsed": false
   },
   "outputs": [],
   "source": [
    "\"\"\"\n",
    "    Chen and Wyble (2015)\n",
    "    \n",
    "    The authors used 20 subjects: \n",
    "            n_total = 20\n",
    "    The null hypothesis (H0) is that \n",
    "        performance is equal or lower than the chance level:\n",
    "            H0: p <= 0.25\n",
    "    In one experiment, the authors found that \n",
    "        40% of the subjects failed to perform correctly:\n",
    "            20*0.40 = 8 subjecs\n",
    "        They concluded that this is not significantly different from H0.\n",
    "        (= H0 is not rejected)\n",
    "        \n",
    "    Objective 1\n",
    "        - Run a binomial test to compute p-value.\n",
    "    Objective 2\n",
    "        - Run a power analysis to check \n",
    "            whether the experiment (i.e., sample size = 20 ) has \n",
    "            enough statistical power.\n",
    "\"\"\"\n",
    "import scipy.stats as sp"
   ]
  },
  {
   "cell_type": "markdown",
   "metadata": {},
   "source": [
    "##Objective 1: Computing p-value"
   ]
  },
  {
   "cell_type": "code",
   "execution_count": 2,
   "metadata": {
    "collapsed": false
   },
   "outputs": [
    {
     "name": "stdout",
     "output_type": "stream",
     "text": [
      "p_value = 0.101811856923\n"
     ]
    }
   ],
   "source": [
    "\"\"\"\n",
    "    We are doing the one-tailed test.\n",
    "    This is equivalent of summing all prob. mass func. (pmf) from n_subject to 20\n",
    "    n_subject = 8\n",
    "\n",
    "\"\"\"\n",
    "n_total = 20\n",
    "p = 1.0/4\n",
    "p_value = sum(sp.binom.pmf(range(8,n_total+1),n_total,p)) \n",
    "print 'p_value = ' + str(p_value)"
   ]
  },
  {
   "cell_type": "markdown",
   "metadata": {},
   "source": [
    "####<font color = 'red'>H0 is not rejected.</font>"
   ]
  },
  {
   "cell_type": "markdown",
   "metadata": {},
   "source": [
    "##Objective 2: Power analysis"
   ]
  },
  {
   "cell_type": "code",
   "execution_count": 3,
   "metadata": {
    "collapsed": false
   },
   "outputs": [
    {
     "name": "stdout",
     "output_type": "stream",
     "text": [
      "p_value (n=8): 0.101811856923\n",
      "p_value (n=9): 0.0409251677065\n"
     ]
    }
   ],
   "source": [
    "\"\"\"\n",
    "    0. Stastical power = 1 - beta\n",
    "        - beta = type II error \n",
    "               = false negative (fail to reject H0 when H0 is false)\n",
    "        - computable in binomial case\n",
    "\n",
    "    1. Find the critical value (y_c)\n",
    "        - the number where p to get at least the number of incidents < 0.05 (p value criterion)\n",
    "            - in our case, y_c = 9 \n",
    "            - sum(sp.binom.pmf(range(9,n_total+1),n_total,p)) = 0.041\n",
    "\"\"\"\n",
    "print 'p_value (n=8): ' + str(sum(sp.binom.pmf(range(8,n_total+1),n_total,p)))\n",
    "print 'p_value (n=9): ' + str(sum(sp.binom.pmf(range(9,n_total+1),n_total,p)))"
   ]
  },
  {
   "cell_type": "markdown",
   "metadata": {},
   "source": [
    "####<font color = 'red'>Critical vlaue (y_c) = 9</font>"
   ]
  },
  {
   "cell_type": "code",
   "execution_count": 4,
   "metadata": {
    "collapsed": false
   },
   "outputs": [
    {
     "name": "stdout",
     "output_type": "stream",
     "text": [
      "power= 0.0409251677065\n"
     ]
    }
   ],
   "source": [
    "\"\"\"\n",
    "    2. Compute the power (1 - beta)\n",
    "        - beta = p ( y < y_c | p) (here, p = 0.25)\n",
    "\"\"\"\n",
    "y_c = 9\n",
    "beta = sum(sp.binom.pmf(range(y_c),n_total,p))\n",
    "print 'power= ' +str(1-beta)"
   ]
  },
  {
   "cell_type": "code",
   "execution_count": 78,
   "metadata": {
    "collapsed": false
   },
   "outputs": [
    {
     "name": "stdout",
     "output_type": "stream",
     "text": [
      "44\n"
     ]
    }
   ],
   "source": [
    "\"\"\"\n",
    "    3. Find out how many samples are needed for power > 0.80\n",
    "    \n",
    "\"\"\"\n",
    "# compute powers for different samples size from 20 (n_total) to 60\n",
    "powers = []\n",
    "n_vec = range(n_total,n_total*3)\n",
    "for n in range(min(n_vec),max(n_vec)+1):\n",
    "    powers.append(1 - sum(sp.binom.pmf(range(y_c),n,p)))\n",
    "        \n",
    "import numpy as np\n",
    "powers_arr = np.array(powers)\n",
    "min_sample = n_vec[np.where(powers_arr>=0.80)[0][0]]\n",
    "print min_sample    "
   ]
  },
  {
   "cell_type": "code",
   "execution_count": 132,
   "metadata": {
    "collapsed": false
   },
   "outputs": [],
   "source": [
    "# Compute power for different p's (when N = 20)\n",
    "powers_p = []\n",
    "p_vec = np.linspace(0,1,40)\n",
    "for p_idx in range(40):\n",
    "    p_ = p_vec[p_idx]\n",
    "    powers_p.append(1 - sum(sp.binom.pmf(range(y_c),20,p_)))"
   ]
  },
  {
   "cell_type": "code",
   "execution_count": 133,
   "metadata": {
    "collapsed": false
   },
   "outputs": [
    {
     "name": "stdout",
     "output_type": "stream",
     "text": [
      "0.538461538462\n"
     ]
    }
   ],
   "source": [
    "powers_p_arr = np.array(powers_p)\n",
    "min_sample_p = p_vec[np.where(powers_p_arr>=0.80)[0][0]]\n",
    "print min_sample_p"
   ]
  },
  {
   "cell_type": "code",
   "execution_count": 154,
   "metadata": {
    "collapsed": false
   },
   "outputs": [
    {
     "data": {
      "image/png": "[encoded data removed]",
      "text/plain": [
       "<matplotlib.figure.Figure at 0x11046ff10>"
      ]
     },
     "metadata": {},
     "output_type": "display_data"
    }
   ],
   "source": [
    "# draw plot\n",
    "import matplotlib.pyplot as plt\n",
    "%matplotlib inline\n",
    "\n",
    "fig, (ax1, ax2) = plt.subplots(1, 2, sharey = True)\n",
    "\n",
    "# Change font setting\n",
    "font = {'family' : 'Arial',\n",
    "        'weight' : 'bold',\n",
    "        'size'   : 18}\n",
    "\n",
    "import matplotlib\n",
    "matplotlib.rc('font', **font)\n",
    "fig.set_size_inches(12, 6)\n",
    "\n",
    "# ax1: Power vs. sample size\n",
    "ax1.plot(n_vec, powers, lw = 2)\n",
    "ax1.set_title('Power vs. N (p=0.25)')\n",
    "ax1.set_xlabel('Sample size (N)')\n",
    "ax1.set_ylabel('Power ( 1 - ' r'$\\beta$' ' )')  # precision\n",
    "ax1.text(25, 0.8, '80%: N > 43')\n",
    "\n",
    "# ax2: Power vs. sample size\n",
    "ax2.plot(p_vec, powers_p, lw = 2)\n",
    "ax2.set_title('Power vs. p (N=20)')\n",
    "ax2.set_xlabel('Success probability (p)')\n",
    "ax2.text(0.10, 0.8, '80%: p > 0.52')\n",
    "\n",
    "plt.show()"
   ]
  },
  {
   "cell_type": "code",
   "execution_count": null,
   "metadata": {
    "collapsed": true
   },
   "outputs": [],
   "source": []
  }
 ],
 "metadata": {
  "kernelspec": {
   "display_name": "Python 2",
   "language": "python",
   "name": "python2"
  },
  "language_info": {
   "codemirror_mode": {
    "name": "ipython",
    "version": 2
   },
   "file_extension": ".py",
   "mimetype": "text/x-python",
   "name": "python",
   "nbconvert_exporter": "python",
   "pygments_lexer": "ipython2",
   "version": "2.7.10"
  }
 },
 "nbformat": 4,
 "nbformat_minor": 0
}
