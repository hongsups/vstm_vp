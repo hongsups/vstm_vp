{
 "cells": [
  {
   "cell_type": "markdown",
   "metadata": {},
   "source": [
    "#Power analysis for binomial test"
   ]
  },
  {
   "cell_type": "code",
   "execution_count": 45,
   "metadata": {
    "collapsed": false
   },
   "outputs": [],
   "source": [
    "\"\"\"\n",
    "    Chen and Wyble (2015)\n",
    "    \n",
    "    The authors used 20 subjects: \n",
    "            n_total = 20\n",
    "    The null hypothesis (H0) is that \n",
    "        performance is equal or lower than the chance level:\n",
    "            H0: p <= 0.25\n",
    "    In one experiment, the authors found that \n",
    "        40% of the subjects failed to perform correctly:\n",
    "            20*0.40 = 8 subjecs\n",
    "        They concluded that this is not significantly different from H0.\n",
    "        (= H0 is not rejected)\n",
    "        \n",
    "    Objective 1\n",
    "        - Run a binomial test to compute p-value.\n",
    "    Objective 2\n",
    "        - Run a power analysis to check \n",
    "            whether the experiment (i.e., sample size = 20 ) has \n",
    "            enough statistical power.\n",
    "\"\"\"\n",
    "import scipy.stats as sp"
   ]
  },
  {
   "cell_type": "markdown",
   "metadata": {},
   "source": [
    "##Objective 1: Computing p-value"
   ]
  },
  {
   "cell_type": "code",
   "execution_count": 46,
   "metadata": {
    "collapsed": false
   },
   "outputs": [
    {
     "name": "stdout",
     "output_type": "stream",
     "text": [
      "p_value = 0.101811856923\n"
     ]
    }
   ],
   "source": [
    "\"\"\"\n",
    "    We are doing the one-tailed test.\n",
    "    This is equivalent of summing all prob. mass func. (pmf) from n_subject to 20\n",
    "    n_subject = 8\n",
    "\n",
    "\"\"\"\n",
    "n_total = 20\n",
    "p = 1.0/4\n",
    "p_value = sum(sp.binom.pmf(range(8,n_total+1),n_total,p)) \n",
    "print 'p_value = ' + str(p_value)"
   ]
  },
  {
   "cell_type": "markdown",
   "metadata": {},
   "source": [
    "####<font color = 'red'>H0 is not rejected.</font>"
   ]
  },
  {
   "cell_type": "markdown",
   "metadata": {},
   "source": [
    "##Objective 2: Power analysis"
   ]
  },
  {
   "cell_type": "code",
   "execution_count": 48,
   "metadata": {
    "collapsed": false
   },
   "outputs": [
    {
     "name": "stdout",
     "output_type": "stream",
     "text": [
      "p_value (n=8): 0.101811856923\n",
      "p_value (n=9): 0.0409251677065\n"
     ]
    }
   ],
   "source": [
    "\"\"\"\n",
    "    0. Stastical power = 1 - beta\n",
    "        - beta = type II error \n",
    "               = false negative (fail to reject H0 when H0 is false)\n",
    "        - computable in binomial case\n",
    "\n",
    "    1. Find the critical value (y_c)\n",
    "        - the number where p to get at least the number of incidents < 0.05 (p value criterion)\n",
    "            - in our case, y_c = 9 \n",
    "            - sum(sp.binom.pmf(range(9,n_total+1),n_total,p)) = 0.041\n",
    "\"\"\"\n",
    "print 'p_value (n=8): ' + str(sum(sp.binom.pmf(range(8,n_total+1),n_total,p)))\n",
    "print 'p_value (n=9): ' + str(sum(sp.binom.pmf(range(9,n_total+1),n_total,p)))"
   ]
  },
  {
   "cell_type": "markdown",
   "metadata": {},
   "source": [
    "####<font color = 'red'>Critical vlaue (y_c) = 9</font>"
   ]
  },
  {
   "cell_type": "code",
   "execution_count": 41,
   "metadata": {
    "collapsed": false
   },
   "outputs": [
    {
     "name": "stdout",
     "output_type": "stream",
     "text": [
      "power= 0.0409251677065\n"
     ]
    }
   ],
   "source": [
    "\"\"\"\n",
    "    2. Compute the power (1 - beta)\n",
    "        - beta = p ( y < y_c | p) (here, p = 0.25)\n",
    "\"\"\"\n",
    "y_c = 9\n",
    "beta = sum(sp.binom.pmf(range(y_c),n_total,p))\n",
    "print 'power= ' +str(1-beta)"
   ]
  },
  {
   "cell_type": "code",
   "execution_count": null,
   "metadata": {
    "collapsed": true
   },
   "outputs": [],
   "source": []
  }
 ],
 "metadata": {
  "kernelspec": {
   "display_name": "Python 2",
   "language": "python",
   "name": "python2"
  },
  "language_info": {
   "codemirror_mode": {
    "name": "ipython",
    "version": 2
   },
   "file_extension": ".py",
   "mimetype": "text/x-python",
   "name": "python",
   "nbconvert_exporter": "python",
   "pygments_lexer": "ipython2",
   "version": "2.7.10"
  }
 },
 "nbformat": 4,
 "nbformat_minor": 0
}
